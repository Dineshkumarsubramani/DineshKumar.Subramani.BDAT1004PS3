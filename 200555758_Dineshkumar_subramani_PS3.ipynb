{
 "cells": [
  {
   "cell_type": "markdown",
   "id": "669f5d4d",
   "metadata": {},
   "source": [
    "# BDAT 1004 – Data Programming"
   ]
  },
  {
   "cell_type": "markdown",
   "id": "8993a0ec",
   "metadata": {},
   "source": [
    "## Problem Set 3"
   ]
  },
  {
   "cell_type": "markdown",
   "id": "848730dd",
   "metadata": {},
   "source": [
    "## Question 1 - Occupations"
   ]
  },
  {
   "cell_type": "code",
   "execution_count": 5,
   "id": "6d35d858",
   "metadata": {},
   "outputs": [],
   "source": [
    "import pandas as pd"
   ]
  },
  {
   "cell_type": "code",
   "execution_count": 6,
   "id": "0ae85782",
   "metadata": {},
   "outputs": [],
   "source": [
    "url = 'https://raw.githubusercontent.com/justmarkham/DAT8/master/data/u.user'\n",
    "users = pd.read_csv(url, delimiter='|')"
   ]
  },
  {
   "cell_type": "code",
   "execution_count": 7,
   "id": "f747fad0",
   "metadata": {},
   "outputs": [
    {
     "name": "stdout",
     "output_type": "stream",
     "text": [
      "     user_id  age gender     occupation zip_code\n",
      "0          1   24      M     technician    85711\n",
      "1          2   53      F          other    94043\n",
      "2          3   23      M         writer    32067\n",
      "3          4   24      M     technician    43537\n",
      "4          5   33      F          other    15213\n",
      "..       ...  ...    ...            ...      ...\n",
      "938      939   26      F        student    33319\n",
      "939      940   32      M  administrator    02215\n",
      "940      941   20      M        student    97229\n",
      "941      942   48      F      librarian    78209\n",
      "942      943   22      M        student    77841\n",
      "\n",
      "[943 rows x 5 columns]\n"
     ]
    }
   ],
   "source": [
    "print(users)"
   ]
  },
  {
   "cell_type": "code",
   "execution_count": 8,
   "id": "1c1fbaf5",
   "metadata": {
    "scrolled": true
   },
   "outputs": [
    {
     "data": {
      "text/html": [
       "<div>\n",
       "<style scoped>\n",
       "    .dataframe tbody tr th:only-of-type {\n",
       "        vertical-align: middle;\n",
       "    }\n",
       "\n",
       "    .dataframe tbody tr th {\n",
       "        vertical-align: top;\n",
       "    }\n",
       "\n",
       "    .dataframe thead th {\n",
       "        text-align: right;\n",
       "    }\n",
       "</style>\n",
       "<table border=\"1\" class=\"dataframe\">\n",
       "  <thead>\n",
       "    <tr style=\"text-align: right;\">\n",
       "      <th></th>\n",
       "      <th>user_id</th>\n",
       "      <th>age</th>\n",
       "      <th>gender</th>\n",
       "      <th>occupation</th>\n",
       "      <th>zip_code</th>\n",
       "    </tr>\n",
       "  </thead>\n",
       "  <tbody>\n",
       "    <tr>\n",
       "      <th>0</th>\n",
       "      <td>1</td>\n",
       "      <td>24</td>\n",
       "      <td>M</td>\n",
       "      <td>technician</td>\n",
       "      <td>85711</td>\n",
       "    </tr>\n",
       "    <tr>\n",
       "      <th>1</th>\n",
       "      <td>2</td>\n",
       "      <td>53</td>\n",
       "      <td>F</td>\n",
       "      <td>other</td>\n",
       "      <td>94043</td>\n",
       "    </tr>\n",
       "    <tr>\n",
       "      <th>2</th>\n",
       "      <td>3</td>\n",
       "      <td>23</td>\n",
       "      <td>M</td>\n",
       "      <td>writer</td>\n",
       "      <td>32067</td>\n",
       "    </tr>\n",
       "    <tr>\n",
       "      <th>3</th>\n",
       "      <td>4</td>\n",
       "      <td>24</td>\n",
       "      <td>M</td>\n",
       "      <td>technician</td>\n",
       "      <td>43537</td>\n",
       "    </tr>\n",
       "    <tr>\n",
       "      <th>4</th>\n",
       "      <td>5</td>\n",
       "      <td>33</td>\n",
       "      <td>F</td>\n",
       "      <td>other</td>\n",
       "      <td>15213</td>\n",
       "    </tr>\n",
       "    <tr>\n",
       "      <th>5</th>\n",
       "      <td>6</td>\n",
       "      <td>42</td>\n",
       "      <td>M</td>\n",
       "      <td>executive</td>\n",
       "      <td>98101</td>\n",
       "    </tr>\n",
       "    <tr>\n",
       "      <th>6</th>\n",
       "      <td>7</td>\n",
       "      <td>57</td>\n",
       "      <td>M</td>\n",
       "      <td>administrator</td>\n",
       "      <td>91344</td>\n",
       "    </tr>\n",
       "    <tr>\n",
       "      <th>7</th>\n",
       "      <td>8</td>\n",
       "      <td>36</td>\n",
       "      <td>M</td>\n",
       "      <td>administrator</td>\n",
       "      <td>05201</td>\n",
       "    </tr>\n",
       "    <tr>\n",
       "      <th>8</th>\n",
       "      <td>9</td>\n",
       "      <td>29</td>\n",
       "      <td>M</td>\n",
       "      <td>student</td>\n",
       "      <td>01002</td>\n",
       "    </tr>\n",
       "    <tr>\n",
       "      <th>9</th>\n",
       "      <td>10</td>\n",
       "      <td>53</td>\n",
       "      <td>M</td>\n",
       "      <td>lawyer</td>\n",
       "      <td>90703</td>\n",
       "    </tr>\n",
       "  </tbody>\n",
       "</table>\n",
       "</div>"
      ],
      "text/plain": [
       "   user_id  age gender     occupation zip_code\n",
       "0        1   24      M     technician    85711\n",
       "1        2   53      F          other    94043\n",
       "2        3   23      M         writer    32067\n",
       "3        4   24      M     technician    43537\n",
       "4        5   33      F          other    15213\n",
       "5        6   42      M      executive    98101\n",
       "6        7   57      M  administrator    91344\n",
       "7        8   36      M  administrator    05201\n",
       "8        9   29      M        student    01002\n",
       "9       10   53      M         lawyer    90703"
      ]
     },
     "execution_count": 8,
     "metadata": {},
     "output_type": "execute_result"
    }
   ],
   "source": [
    "users.head(10)"
   ]
  },
  {
   "cell_type": "code",
   "execution_count": 9,
   "id": "9af3774d",
   "metadata": {},
   "outputs": [
    {
     "name": "stdout",
     "output_type": "stream",
     "text": [
      "occupation\n",
      "administrator    38.746835\n",
      "artist           31.392857\n",
      "doctor           43.571429\n",
      "educator         42.010526\n",
      "engineer         36.388060\n",
      "entertainment    29.222222\n",
      "executive        38.718750\n",
      "healthcare       41.562500\n",
      "homemaker        32.571429\n",
      "lawyer           36.750000\n",
      "librarian        40.000000\n",
      "marketing        37.615385\n",
      "none             26.555556\n",
      "other            34.523810\n",
      "programmer       33.121212\n",
      "retired          63.071429\n",
      "salesman         35.666667\n",
      "scientist        35.548387\n",
      "student          22.081633\n",
      "technician       33.148148\n",
      "writer           36.311111\n",
      "Name: age, dtype: float64\n"
     ]
    }
   ],
   "source": [
    "mean_age_per_occupation = users.groupby('occupation').age.mean()\n",
    "print(mean_age_per_occupation)"
   ]
  },
  {
   "cell_type": "code",
   "execution_count": 10,
   "id": "872c1122",
   "metadata": {},
   "outputs": [
    {
     "name": "stdout",
     "output_type": "stream",
     "text": [
      "occupation\n",
      "administrator    0.544304\n",
      "artist           0.535714\n",
      "doctor           1.000000\n",
      "educator         0.726316\n",
      "engineer         0.970149\n",
      "entertainment    0.888889\n",
      "executive        0.906250\n",
      "healthcare       0.312500\n",
      "homemaker        0.142857\n",
      "lawyer           0.833333\n",
      "librarian        0.431373\n",
      "marketing        0.615385\n",
      "none             0.555556\n",
      "other            0.657143\n",
      "programmer       0.909091\n",
      "retired          0.928571\n",
      "salesman         0.750000\n",
      "scientist        0.903226\n",
      "student          0.693878\n",
      "technician       0.962963\n",
      "writer           0.577778\n",
      "Name: gender, dtype: float64\n"
     ]
    }
   ],
   "source": [
    "male_ratio = users[users.gender == 'M'].groupby('occupation').gender.count() / users.groupby('occupation').gender.count()\n",
    "sorted_male_ratio = male_ratio.sort_values(ascending=False)\n",
    "\n",
    "print(male_ratio)"
   ]
  },
  {
   "cell_type": "code",
   "execution_count": 11,
   "id": "5ca44ff4",
   "metadata": {},
   "outputs": [
    {
     "name": "stdout",
     "output_type": "stream",
     "text": [
      "occupation\n",
      "doctor           1.000000\n",
      "engineer         0.970149\n",
      "technician       0.962963\n",
      "retired          0.928571\n",
      "programmer       0.909091\n",
      "executive        0.906250\n",
      "scientist        0.903226\n",
      "entertainment    0.888889\n",
      "lawyer           0.833333\n",
      "salesman         0.750000\n",
      "educator         0.726316\n",
      "student          0.693878\n",
      "other            0.657143\n",
      "marketing        0.615385\n",
      "writer           0.577778\n",
      "none             0.555556\n",
      "administrator    0.544304\n",
      "artist           0.535714\n",
      "librarian        0.431373\n",
      "healthcare       0.312500\n",
      "homemaker        0.142857\n",
      "Name: gender, dtype: float64\n"
     ]
    }
   ],
   "source": [
    "print(sorted_male_ratio)"
   ]
  },
  {
   "cell_type": "code",
   "execution_count": 12,
   "id": "837bb26d",
   "metadata": {},
   "outputs": [
    {
     "name": "stdout",
     "output_type": "stream",
     "text": [
      "               min  max\n",
      "occupation             \n",
      "administrator   21   70\n",
      "artist          19   48\n",
      "doctor          28   64\n",
      "educator        23   63\n",
      "engineer        22   70\n",
      "entertainment   15   50\n",
      "executive       22   69\n",
      "healthcare      22   62\n",
      "homemaker       20   50\n",
      "lawyer          21   53\n",
      "librarian       23   69\n",
      "marketing       24   55\n",
      "none            11   55\n",
      "other           13   64\n",
      "programmer      20   63\n",
      "retired         51   73\n",
      "salesman        18   66\n",
      "scientist       23   55\n",
      "student          7   42\n",
      "technician      21   55\n",
      "writer          18   60\n"
     ]
    }
   ],
   "source": [
    "min_max_age = users.groupby('occupation').age.agg(['min', 'max'])\n",
    "print(min_max_age)"
   ]
  },
  {
   "cell_type": "code",
   "execution_count": 13,
   "id": "a7cbaee0",
   "metadata": {},
   "outputs": [
    {
     "name": "stdout",
     "output_type": "stream",
     "text": [
      "occupation     gender\n",
      "administrator  F         40.638889\n",
      "               M         37.162791\n",
      "artist         F         30.307692\n",
      "               M         32.333333\n",
      "doctor         M         43.571429\n",
      "educator       F         39.115385\n",
      "               M         43.101449\n",
      "engineer       F         29.500000\n",
      "               M         36.600000\n",
      "entertainment  F         31.000000\n",
      "               M         29.000000\n",
      "executive      F         44.000000\n",
      "               M         38.172414\n",
      "healthcare     F         39.818182\n",
      "               M         45.400000\n",
      "homemaker      F         34.166667\n",
      "               M         23.000000\n",
      "lawyer         F         39.500000\n",
      "               M         36.200000\n",
      "librarian      F         40.000000\n",
      "               M         40.000000\n",
      "marketing      F         37.200000\n",
      "               M         37.875000\n",
      "none           F         36.500000\n",
      "               M         18.600000\n",
      "other          F         35.472222\n",
      "               M         34.028986\n",
      "programmer     F         32.166667\n",
      "               M         33.216667\n",
      "retired        F         70.000000\n",
      "               M         62.538462\n",
      "salesman       F         27.000000\n",
      "               M         38.555556\n",
      "scientist      F         28.333333\n",
      "               M         36.321429\n",
      "student        F         20.750000\n",
      "               M         22.669118\n",
      "technician     F         38.000000\n",
      "               M         32.961538\n",
      "writer         F         37.631579\n",
      "               M         35.346154\n",
      "Name: age, dtype: float64\n"
     ]
    }
   ],
   "source": [
    "mean_age_by_gender = users.groupby(['occupation', 'gender']).age.mean()\n",
    "print(mean_age_by_gender)"
   ]
  },
  {
   "cell_type": "code",
   "execution_count": 14,
   "id": "4cf2ec52",
   "metadata": {},
   "outputs": [],
   "source": [
    "gender_counts = users.groupby(['occupation', 'gender']).gender.count().unstack()\n",
    "gender_percentage = gender_counts.div(gender_counts.sum(axis=1), axis=0)"
   ]
  },
  {
   "cell_type": "code",
   "execution_count": 15,
   "id": "110de2df",
   "metadata": {},
   "outputs": [
    {
     "name": "stdout",
     "output_type": "stream",
     "text": [
      "gender            F      M\n",
      "occupation                \n",
      "administrator  36.0   43.0\n",
      "artist         13.0   15.0\n",
      "doctor          NaN    7.0\n",
      "educator       26.0   69.0\n",
      "engineer        2.0   65.0\n",
      "entertainment   2.0   16.0\n",
      "executive       3.0   29.0\n",
      "healthcare     11.0    5.0\n",
      "homemaker       6.0    1.0\n",
      "lawyer          2.0   10.0\n",
      "librarian      29.0   22.0\n",
      "marketing      10.0   16.0\n",
      "none            4.0    5.0\n",
      "other          36.0   69.0\n",
      "programmer      6.0   60.0\n",
      "retired         1.0   13.0\n",
      "salesman        3.0    9.0\n",
      "scientist       3.0   28.0\n",
      "student        60.0  136.0\n",
      "technician      1.0   26.0\n",
      "writer         19.0   26.0\n"
     ]
    }
   ],
   "source": [
    "print(gender_counts)"
   ]
  },
  {
   "cell_type": "code",
   "execution_count": 16,
   "id": "154be4b8",
   "metadata": {},
   "outputs": [
    {
     "name": "stdout",
     "output_type": "stream",
     "text": [
      "gender                F         M\n",
      "occupation                       \n",
      "administrator  0.455696  0.544304\n",
      "artist         0.464286  0.535714\n",
      "doctor              NaN  1.000000\n",
      "educator       0.273684  0.726316\n",
      "engineer       0.029851  0.970149\n",
      "entertainment  0.111111  0.888889\n",
      "executive      0.093750  0.906250\n",
      "healthcare     0.687500  0.312500\n",
      "homemaker      0.857143  0.142857\n",
      "lawyer         0.166667  0.833333\n",
      "librarian      0.568627  0.431373\n",
      "marketing      0.384615  0.615385\n",
      "none           0.444444  0.555556\n",
      "other          0.342857  0.657143\n",
      "programmer     0.090909  0.909091\n",
      "retired        0.071429  0.928571\n",
      "salesman       0.250000  0.750000\n",
      "scientist      0.096774  0.903226\n",
      "student        0.306122  0.693878\n",
      "technician     0.037037  0.962963\n",
      "writer         0.422222  0.577778\n"
     ]
    }
   ],
   "source": [
    "print(gender_percentage)"
   ]
  },
  {
   "cell_type": "markdown",
   "id": "5d195fc4",
   "metadata": {},
   "source": [
    "## Question 2 - Euro Teams"
   ]
  },
  {
   "cell_type": "code",
   "execution_count": 17,
   "id": "6b14b906",
   "metadata": {},
   "outputs": [],
   "source": [
    "eurourl = 'https://raw.githubusercontent.com/guipsamora/pandas_exercises/master/02_Filtering_%26_Sorting/Euro12/Euro_2012_stats_TEAM.csv'\n",
    "euro12 = pd.read_csv(eurourl)"
   ]
  },
  {
   "cell_type": "code",
   "execution_count": 18,
   "id": "985555b0",
   "metadata": {},
   "outputs": [
    {
     "data": {
      "text/html": [
       "<div>\n",
       "<style scoped>\n",
       "    .dataframe tbody tr th:only-of-type {\n",
       "        vertical-align: middle;\n",
       "    }\n",
       "\n",
       "    .dataframe tbody tr th {\n",
       "        vertical-align: top;\n",
       "    }\n",
       "\n",
       "    .dataframe thead th {\n",
       "        text-align: right;\n",
       "    }\n",
       "</style>\n",
       "<table border=\"1\" class=\"dataframe\">\n",
       "  <thead>\n",
       "    <tr style=\"text-align: right;\">\n",
       "      <th></th>\n",
       "      <th>Team</th>\n",
       "      <th>Goals</th>\n",
       "      <th>Shots on target</th>\n",
       "      <th>Shots off target</th>\n",
       "      <th>Shooting Accuracy</th>\n",
       "      <th>% Goals-to-shots</th>\n",
       "      <th>Total shots (inc. Blocked)</th>\n",
       "      <th>Hit Woodwork</th>\n",
       "      <th>Penalty goals</th>\n",
       "      <th>Penalties not scored</th>\n",
       "      <th>...</th>\n",
       "      <th>Saves made</th>\n",
       "      <th>Saves-to-shots ratio</th>\n",
       "      <th>Fouls Won</th>\n",
       "      <th>Fouls Conceded</th>\n",
       "      <th>Offsides</th>\n",
       "      <th>Yellow Cards</th>\n",
       "      <th>Red Cards</th>\n",
       "      <th>Subs on</th>\n",
       "      <th>Subs off</th>\n",
       "      <th>Players Used</th>\n",
       "    </tr>\n",
       "  </thead>\n",
       "  <tbody>\n",
       "    <tr>\n",
       "      <th>0</th>\n",
       "      <td>Croatia</td>\n",
       "      <td>4</td>\n",
       "      <td>13</td>\n",
       "      <td>12</td>\n",
       "      <td>51.9%</td>\n",
       "      <td>16.0%</td>\n",
       "      <td>32</td>\n",
       "      <td>0</td>\n",
       "      <td>0</td>\n",
       "      <td>0</td>\n",
       "      <td>...</td>\n",
       "      <td>13</td>\n",
       "      <td>81.3%</td>\n",
       "      <td>41</td>\n",
       "      <td>62</td>\n",
       "      <td>2</td>\n",
       "      <td>9</td>\n",
       "      <td>0</td>\n",
       "      <td>9</td>\n",
       "      <td>9</td>\n",
       "      <td>16</td>\n",
       "    </tr>\n",
       "    <tr>\n",
       "      <th>1</th>\n",
       "      <td>Czech Republic</td>\n",
       "      <td>4</td>\n",
       "      <td>13</td>\n",
       "      <td>18</td>\n",
       "      <td>41.9%</td>\n",
       "      <td>12.9%</td>\n",
       "      <td>39</td>\n",
       "      <td>0</td>\n",
       "      <td>0</td>\n",
       "      <td>0</td>\n",
       "      <td>...</td>\n",
       "      <td>9</td>\n",
       "      <td>60.1%</td>\n",
       "      <td>53</td>\n",
       "      <td>73</td>\n",
       "      <td>8</td>\n",
       "      <td>7</td>\n",
       "      <td>0</td>\n",
       "      <td>11</td>\n",
       "      <td>11</td>\n",
       "      <td>19</td>\n",
       "    </tr>\n",
       "    <tr>\n",
       "      <th>2</th>\n",
       "      <td>Denmark</td>\n",
       "      <td>4</td>\n",
       "      <td>10</td>\n",
       "      <td>10</td>\n",
       "      <td>50.0%</td>\n",
       "      <td>20.0%</td>\n",
       "      <td>27</td>\n",
       "      <td>1</td>\n",
       "      <td>0</td>\n",
       "      <td>0</td>\n",
       "      <td>...</td>\n",
       "      <td>10</td>\n",
       "      <td>66.7%</td>\n",
       "      <td>25</td>\n",
       "      <td>38</td>\n",
       "      <td>8</td>\n",
       "      <td>4</td>\n",
       "      <td>0</td>\n",
       "      <td>7</td>\n",
       "      <td>7</td>\n",
       "      <td>15</td>\n",
       "    </tr>\n",
       "    <tr>\n",
       "      <th>3</th>\n",
       "      <td>England</td>\n",
       "      <td>5</td>\n",
       "      <td>11</td>\n",
       "      <td>18</td>\n",
       "      <td>50.0%</td>\n",
       "      <td>17.2%</td>\n",
       "      <td>40</td>\n",
       "      <td>0</td>\n",
       "      <td>0</td>\n",
       "      <td>0</td>\n",
       "      <td>...</td>\n",
       "      <td>22</td>\n",
       "      <td>88.1%</td>\n",
       "      <td>43</td>\n",
       "      <td>45</td>\n",
       "      <td>6</td>\n",
       "      <td>5</td>\n",
       "      <td>0</td>\n",
       "      <td>11</td>\n",
       "      <td>11</td>\n",
       "      <td>16</td>\n",
       "    </tr>\n",
       "    <tr>\n",
       "      <th>4</th>\n",
       "      <td>France</td>\n",
       "      <td>3</td>\n",
       "      <td>22</td>\n",
       "      <td>24</td>\n",
       "      <td>37.9%</td>\n",
       "      <td>6.5%</td>\n",
       "      <td>65</td>\n",
       "      <td>1</td>\n",
       "      <td>0</td>\n",
       "      <td>0</td>\n",
       "      <td>...</td>\n",
       "      <td>6</td>\n",
       "      <td>54.6%</td>\n",
       "      <td>36</td>\n",
       "      <td>51</td>\n",
       "      <td>5</td>\n",
       "      <td>6</td>\n",
       "      <td>0</td>\n",
       "      <td>11</td>\n",
       "      <td>11</td>\n",
       "      <td>19</td>\n",
       "    </tr>\n",
       "  </tbody>\n",
       "</table>\n",
       "<p>5 rows × 35 columns</p>\n",
       "</div>"
      ],
      "text/plain": [
       "             Team  Goals  Shots on target  Shots off target Shooting Accuracy  \\\n",
       "0         Croatia      4               13                12             51.9%   \n",
       "1  Czech Republic      4               13                18             41.9%   \n",
       "2         Denmark      4               10                10             50.0%   \n",
       "3         England      5               11                18             50.0%   \n",
       "4          France      3               22                24             37.9%   \n",
       "\n",
       "  % Goals-to-shots  Total shots (inc. Blocked)  Hit Woodwork  Penalty goals  \\\n",
       "0            16.0%                          32             0              0   \n",
       "1            12.9%                          39             0              0   \n",
       "2            20.0%                          27             1              0   \n",
       "3            17.2%                          40             0              0   \n",
       "4             6.5%                          65             1              0   \n",
       "\n",
       "   Penalties not scored  ...  Saves made  Saves-to-shots ratio  Fouls Won  \\\n",
       "0                     0  ...          13                 81.3%         41   \n",
       "1                     0  ...           9                 60.1%         53   \n",
       "2                     0  ...          10                 66.7%         25   \n",
       "3                     0  ...          22                 88.1%         43   \n",
       "4                     0  ...           6                 54.6%         36   \n",
       "\n",
       "  Fouls Conceded  Offsides  Yellow Cards  Red Cards  Subs on  Subs off  \\\n",
       "0             62         2             9          0        9         9   \n",
       "1             73         8             7          0       11        11   \n",
       "2             38         8             4          0        7         7   \n",
       "3             45         6             5          0       11        11   \n",
       "4             51         5             6          0       11        11   \n",
       "\n",
       "   Players Used  \n",
       "0            16  \n",
       "1            19  \n",
       "2            15  \n",
       "3            16  \n",
       "4            19  \n",
       "\n",
       "[5 rows x 35 columns]"
      ]
     },
     "execution_count": 18,
     "metadata": {},
     "output_type": "execute_result"
    }
   ],
   "source": [
    "euro12.head()"
   ]
  },
  {
   "cell_type": "code",
   "execution_count": 19,
   "id": "6ced709a",
   "metadata": {},
   "outputs": [
    {
     "name": "stdout",
     "output_type": "stream",
     "text": [
      "0      4\n",
      "1      4\n",
      "2      4\n",
      "3      5\n",
      "4      3\n",
      "5     10\n",
      "6      5\n",
      "7      6\n",
      "8      2\n",
      "9      2\n",
      "10     6\n",
      "11     1\n",
      "12     5\n",
      "13    12\n",
      "14     5\n",
      "15     2\n",
      "Name: Goals, dtype: int64\n"
     ]
    }
   ],
   "source": [
    "goals = euro12['Goals']\n",
    "print(goals)"
   ]
  },
  {
   "cell_type": "code",
   "execution_count": 20,
   "id": "fe970db1",
   "metadata": {},
   "outputs": [
    {
     "name": "stdout",
     "output_type": "stream",
     "text": [
      "16\n"
     ]
    }
   ],
   "source": [
    "num_teams = euro12.Team.nunique()\n",
    "print(num_teams)"
   ]
  },
  {
   "cell_type": "code",
   "execution_count": 21,
   "id": "bd40e41c",
   "metadata": {},
   "outputs": [
    {
     "name": "stdout",
     "output_type": "stream",
     "text": [
      "35\n"
     ]
    }
   ],
   "source": [
    "num_columns = euro12.shape[1]\n",
    "print(num_columns)"
   ]
  },
  {
   "cell_type": "code",
   "execution_count": 22,
   "id": "2cc8d589",
   "metadata": {},
   "outputs": [
    {
     "name": "stdout",
     "output_type": "stream",
     "text": [
      "                   Team  Yellow Cards  Red Cards\n",
      "0               Croatia             9          0\n",
      "1        Czech Republic             7          0\n",
      "2               Denmark             4          0\n",
      "3               England             5          0\n",
      "4                France             6          0\n",
      "5               Germany             4          0\n",
      "6                Greece             9          1\n",
      "7                 Italy            16          0\n",
      "8           Netherlands             5          0\n",
      "9                Poland             7          1\n",
      "10             Portugal            12          0\n",
      "11  Republic of Ireland             6          1\n",
      "12               Russia             6          0\n",
      "13                Spain            11          0\n",
      "14               Sweden             7          0\n",
      "15              Ukraine             5          0\n"
     ]
    }
   ],
   "source": [
    "discipline = euro12[['Team', 'Yellow Cards', 'Red Cards']]\n",
    "print(discipline)"
   ]
  },
  {
   "cell_type": "code",
   "execution_count": 23,
   "id": "321bf3d2",
   "metadata": {},
   "outputs": [
    {
     "name": "stdout",
     "output_type": "stream",
     "text": [
      "                   Team  Yellow Cards  Red Cards\n",
      "6                Greece             9          1\n",
      "9                Poland             7          1\n",
      "11  Republic of Ireland             6          1\n",
      "7                 Italy            16          0\n",
      "10             Portugal            12          0\n",
      "13                Spain            11          0\n",
      "0               Croatia             9          0\n",
      "1        Czech Republic             7          0\n",
      "14               Sweden             7          0\n",
      "4                France             6          0\n",
      "12               Russia             6          0\n",
      "3               England             5          0\n",
      "8           Netherlands             5          0\n",
      "15              Ukraine             5          0\n",
      "2               Denmark             4          0\n",
      "5               Germany             4          0\n"
     ]
    }
   ],
   "source": [
    "sorted_discipline = discipline.sort_values(by=['Red Cards', 'Yellow Cards'], ascending=[False, False])\n",
    "print(sorted_discipline)"
   ]
  },
  {
   "cell_type": "code",
   "execution_count": 24,
   "id": "7e5acc9e",
   "metadata": {},
   "outputs": [
    {
     "name": "stdout",
     "output_type": "stream",
     "text": [
      "7.4375\n"
     ]
    }
   ],
   "source": [
    "mean_yellow_cards = discipline['Yellow Cards'].mean()\n",
    "print(mean_yellow_cards)"
   ]
  },
  {
   "cell_type": "code",
   "execution_count": 25,
   "id": "569fef1f",
   "metadata": {},
   "outputs": [
    {
     "name": "stdout",
     "output_type": "stream",
     "text": [
      "       Team  Goals  Shots on target  Shots off target Shooting Accuracy  \\\n",
      "5   Germany     10               32                32             47.8%   \n",
      "13    Spain     12               42                33             55.9%   \n",
      "\n",
      "   % Goals-to-shots  Total shots (inc. Blocked)  Hit Woodwork  Penalty goals  \\\n",
      "5             15.6%                          80             2              1   \n",
      "13            16.0%                         100             0              1   \n",
      "\n",
      "    Penalties not scored  ...  Saves made  Saves-to-shots ratio  Fouls Won  \\\n",
      "5                      0  ...          10                 62.6%         63   \n",
      "13                     0  ...          15                 93.8%        102   \n",
      "\n",
      "   Fouls Conceded  Offsides  Yellow Cards  Red Cards  Subs on  Subs off  \\\n",
      "5              49        12             4          0       15        15   \n",
      "13             83        19            11          0       17        17   \n",
      "\n",
      "    Players Used  \n",
      "5             17  \n",
      "13            18  \n",
      "\n",
      "[2 rows x 35 columns]\n"
     ]
    }
   ],
   "source": [
    "teams_more_than_6_goals = euro12[euro12['Goals'] > 6]\n",
    "print(teams_more_than_6_goals)"
   ]
  },
  {
   "cell_type": "code",
   "execution_count": 26,
   "id": "1a354a08",
   "metadata": {},
   "outputs": [
    {
     "name": "stdout",
     "output_type": "stream",
     "text": [
      "      Team  Goals  Shots on target  Shots off target Shooting Accuracy  \\\n",
      "5  Germany     10               32                32             47.8%   \n",
      "6   Greece      5                8                18             30.7%   \n",
      "\n",
      "  % Goals-to-shots  Total shots (inc. Blocked)  Hit Woodwork  Penalty goals  \\\n",
      "5            15.6%                          80             2              1   \n",
      "6            19.2%                          32             1              1   \n",
      "\n",
      "   Penalties not scored  ...  Saves made  Saves-to-shots ratio  Fouls Won  \\\n",
      "5                     0  ...          10                 62.6%         63   \n",
      "6                     1  ...          13                 65.1%         67   \n",
      "\n",
      "  Fouls Conceded  Offsides  Yellow Cards  Red Cards  Subs on  Subs off  \\\n",
      "5             49        12             4          0       15        15   \n",
      "6             48        12             9          1       12        12   \n",
      "\n",
      "   Players Used  \n",
      "5            17  \n",
      "6            20  \n",
      "\n",
      "[2 rows x 35 columns]\n"
     ]
    }
   ],
   "source": [
    "teams_starting_with_G = euro12[euro12['Team'].str.startswith('G')]\n",
    "print(teams_starting_with_G)"
   ]
  },
  {
   "cell_type": "code",
   "execution_count": 27,
   "id": "267b9184",
   "metadata": {},
   "outputs": [
    {
     "name": "stdout",
     "output_type": "stream",
     "text": [
      "                   Team  Goals  Shots on target  Shots off target  \\\n",
      "0               Croatia      4               13                12   \n",
      "1        Czech Republic      4               13                18   \n",
      "2               Denmark      4               10                10   \n",
      "3               England      5               11                18   \n",
      "4                France      3               22                24   \n",
      "5               Germany     10               32                32   \n",
      "6                Greece      5                8                18   \n",
      "7                 Italy      6               34                45   \n",
      "8           Netherlands      2               12                36   \n",
      "9                Poland      2               15                23   \n",
      "10             Portugal      6               22                42   \n",
      "11  Republic of Ireland      1                7                12   \n",
      "12               Russia      5                9                31   \n",
      "13                Spain     12               42                33   \n",
      "14               Sweden      5               17                19   \n",
      "15              Ukraine      2                7                26   \n",
      "\n",
      "   Shooting Accuracy % Goals-to-shots  Total shots (inc. Blocked)  \n",
      "0              51.9%            16.0%                          32  \n",
      "1              41.9%            12.9%                          39  \n",
      "2              50.0%            20.0%                          27  \n",
      "3              50.0%            17.2%                          40  \n",
      "4              37.9%             6.5%                          65  \n",
      "5              47.8%            15.6%                          80  \n",
      "6              30.7%            19.2%                          32  \n",
      "7              43.0%             7.5%                         110  \n",
      "8              25.0%             4.1%                          60  \n",
      "9              39.4%             5.2%                          48  \n",
      "10             34.3%             9.3%                          82  \n",
      "11             36.8%             5.2%                          28  \n",
      "12             22.5%            12.5%                          59  \n",
      "13             55.9%            16.0%                         100  \n",
      "14             47.2%            13.8%                          39  \n",
      "15             21.2%             6.0%                          38  \n"
     ]
    }
   ],
   "source": [
    "first_seven_columns = euro12.iloc[:, :7]\n",
    "print(first_seven_columns)"
   ]
  },
  {
   "cell_type": "code",
   "execution_count": 28,
   "id": "e39e0500",
   "metadata": {},
   "outputs": [
    {
     "name": "stdout",
     "output_type": "stream",
     "text": [
      "                   Team  Goals  Shots on target  Shots off target  \\\n",
      "0               Croatia      4               13                12   \n",
      "1        Czech Republic      4               13                18   \n",
      "2               Denmark      4               10                10   \n",
      "3               England      5               11                18   \n",
      "4                France      3               22                24   \n",
      "5               Germany     10               32                32   \n",
      "6                Greece      5                8                18   \n",
      "7                 Italy      6               34                45   \n",
      "8           Netherlands      2               12                36   \n",
      "9                Poland      2               15                23   \n",
      "10             Portugal      6               22                42   \n",
      "11  Republic of Ireland      1                7                12   \n",
      "12               Russia      5                9                31   \n",
      "13                Spain     12               42                33   \n",
      "14               Sweden      5               17                19   \n",
      "15              Ukraine      2                7                26   \n",
      "\n",
      "   Shooting Accuracy % Goals-to-shots  Total shots (inc. Blocked)  \\\n",
      "0              51.9%            16.0%                          32   \n",
      "1              41.9%            12.9%                          39   \n",
      "2              50.0%            20.0%                          27   \n",
      "3              50.0%            17.2%                          40   \n",
      "4              37.9%             6.5%                          65   \n",
      "5              47.8%            15.6%                          80   \n",
      "6              30.7%            19.2%                          32   \n",
      "7              43.0%             7.5%                         110   \n",
      "8              25.0%             4.1%                          60   \n",
      "9              39.4%             5.2%                          48   \n",
      "10             34.3%             9.3%                          82   \n",
      "11             36.8%             5.2%                          28   \n",
      "12             22.5%            12.5%                          59   \n",
      "13             55.9%            16.0%                         100   \n",
      "14             47.2%            13.8%                          39   \n",
      "15             21.2%             6.0%                          38   \n",
      "\n",
      "    Hit Woodwork  Penalty goals  Penalties not scored  ...  Clean Sheets  \\\n",
      "0              0              0                     0  ...             0   \n",
      "1              0              0                     0  ...             1   \n",
      "2              1              0                     0  ...             1   \n",
      "3              0              0                     0  ...             2   \n",
      "4              1              0                     0  ...             1   \n",
      "5              2              1                     0  ...             1   \n",
      "6              1              1                     1  ...             1   \n",
      "7              2              0                     0  ...             2   \n",
      "8              2              0                     0  ...             0   \n",
      "9              0              0                     0  ...             0   \n",
      "10             6              0                     0  ...             2   \n",
      "11             0              0                     0  ...             0   \n",
      "12             2              0                     0  ...             0   \n",
      "13             0              1                     0  ...             5   \n",
      "14             3              0                     0  ...             1   \n",
      "15             0              0                     0  ...             0   \n",
      "\n",
      "    Blocks  Goals conceded Saves made  Saves-to-shots ratio  Fouls Won  \\\n",
      "0       10               3         13                 81.3%         41   \n",
      "1       10               6          9                 60.1%         53   \n",
      "2       10               5         10                 66.7%         25   \n",
      "3       29               3         22                 88.1%         43   \n",
      "4        7               5          6                 54.6%         36   \n",
      "5       11               6         10                 62.6%         63   \n",
      "6       23               7         13                 65.1%         67   \n",
      "7       18               7         20                 74.1%        101   \n",
      "8        9               5         12                 70.6%         35   \n",
      "9        8               3          6                 66.7%         48   \n",
      "10      11               4         10                 71.5%         73   \n",
      "11      23               9         17                 65.4%         43   \n",
      "12       8               3         10                 77.0%         34   \n",
      "13       8               1         15                 93.8%        102   \n",
      "14      12               5          8                 61.6%         35   \n",
      "15       4               4         13                 76.5%         48   \n",
      "\n",
      "    Fouls Conceded  Offsides  Yellow Cards  Red Cards  \n",
      "0               62         2             9          0  \n",
      "1               73         8             7          0  \n",
      "2               38         8             4          0  \n",
      "3               45         6             5          0  \n",
      "4               51         5             6          0  \n",
      "5               49        12             4          0  \n",
      "6               48        12             9          1  \n",
      "7               89        16            16          0  \n",
      "8               30         3             5          0  \n",
      "9               56         3             7          1  \n",
      "10              90        10            12          0  \n",
      "11              51        11             6          1  \n",
      "12              43         4             6          0  \n",
      "13              83        19            11          0  \n",
      "14              51         7             7          0  \n",
      "15              31         4             5          0  \n",
      "\n",
      "[16 rows x 32 columns]\n"
     ]
    }
   ],
   "source": [
    "all_except_last_three = euro12.iloc[:, :-3]\n",
    "print(all_except_last_three)"
   ]
  },
  {
   "cell_type": "code",
   "execution_count": 29,
   "id": "a1eeb162",
   "metadata": {
    "scrolled": true
   },
   "outputs": [
    {
     "name": "stdout",
     "output_type": "stream",
     "text": [
      "       Team Shooting Accuracy\n",
      "3   England             50.0%\n",
      "7     Italy             43.0%\n",
      "12   Russia             22.5%\n"
     ]
    }
   ],
   "source": [
    "shooting_accuracy = euro12.loc[euro12['Team'].isin(['England', 'Italy', 'Russia']), ['Team', 'Shooting Accuracy']]\n",
    "print(shooting_accuracy)"
   ]
  },
  {
   "cell_type": "markdown",
   "id": "58049718",
   "metadata": {},
   "source": [
    "## Question 3 - Housing"
   ]
  },
  {
   "cell_type": "code",
   "execution_count": 30,
   "id": "d0f0f33e",
   "metadata": {},
   "outputs": [],
   "source": [
    "import numpy as np"
   ]
  },
  {
   "cell_type": "code",
   "execution_count": 31,
   "id": "b6995b07",
   "metadata": {},
   "outputs": [],
   "source": [
    "s1 = pd.Series(np.random.randint(1, 5, 100))\n",
    "s2 = pd.Series(np.random.randint(1, 4, 100))\n",
    "s3 = pd.Series(np.random.randint(10000, 30001, 100))"
   ]
  },
  {
   "cell_type": "code",
   "execution_count": 32,
   "id": "5853d97f",
   "metadata": {},
   "outputs": [
    {
     "name": "stdout",
     "output_type": "stream",
     "text": [
      "    0  1      2\n",
      "0   4  1  19133\n",
      "1   2  1  11181\n",
      "2   4  1  19980\n",
      "3   1  3  14299\n",
      "4   1  2  27071\n",
      ".. .. ..    ...\n",
      "95  2  1  29340\n",
      "96  3  2  14788\n",
      "97  1  3  22997\n",
      "98  1  1  17400\n",
      "99  4  3  15599\n",
      "\n",
      "[100 rows x 3 columns]\n"
     ]
    }
   ],
   "source": [
    "housing_df = pd.concat([s1, s2, s3], axis=1)\n",
    "print(housing_df)"
   ]
  },
  {
   "cell_type": "code",
   "execution_count": 33,
   "id": "e8ef2b22",
   "metadata": {},
   "outputs": [
    {
     "name": "stdout",
     "output_type": "stream",
     "text": [
      "    bedrs  bathrs  price_sqr_meter\n",
      "0       4       1            19133\n",
      "1       2       1            11181\n",
      "2       4       1            19980\n",
      "3       1       3            14299\n",
      "4       1       2            27071\n",
      "..    ...     ...              ...\n",
      "95      2       1            29340\n",
      "96      3       2            14788\n",
      "97      1       3            22997\n",
      "98      1       1            17400\n",
      "99      4       3            15599\n",
      "\n",
      "[100 rows x 3 columns]\n"
     ]
    }
   ],
   "source": [
    "housing_df.columns = ['bedrs', 'bathrs', 'price_sqr_meter']\n",
    "print(housing_df)"
   ]
  },
  {
   "cell_type": "code",
   "execution_count": 34,
   "id": "d4ef6641",
   "metadata": {},
   "outputs": [
    {
     "name": "stdout",
     "output_type": "stream",
     "text": [
      "0         4\n",
      "1         2\n",
      "2         4\n",
      "3         1\n",
      "4         1\n",
      "      ...  \n",
      "95    29340\n",
      "96    14788\n",
      "97    22997\n",
      "98    17400\n",
      "99    15599\n",
      "Length: 300, dtype: int64\n"
     ]
    }
   ],
   "source": [
    "bigcolumn = pd.concat([s1, s2, s3])\n",
    "print(bigcolumn)"
   ]
  },
  {
   "cell_type": "markdown",
   "id": "4c7879bb",
   "metadata": {},
   "source": [
    "Step 6: Ops it seems it is going only until index 99. Is it true?"
   ]
  },
  {
   "cell_type": "markdown",
   "id": "ad4c125b",
   "metadata": {},
   "source": [
    "Yes, it appears to be true because the indices are reset after each series in the concatenation procedure."
   ]
  },
  {
   "cell_type": "code",
   "execution_count": 56,
   "id": "25d9cfa1",
   "metadata": {},
   "outputs": [
    {
     "name": "stdout",
     "output_type": "stream",
     "text": [
      "0          4\n",
      "1          2\n",
      "2          4\n",
      "3          1\n",
      "4          1\n",
      "       ...  \n",
      "295    29340\n",
      "296    14788\n",
      "297    22997\n",
      "298    17400\n",
      "299    15599\n",
      "Length: 300, dtype: int64\n"
     ]
    }
   ],
   "source": [
    "bigcolumn.reset_index(drop=True, inplace=True)\n",
    "print(bigcolumn)"
   ]
  },
  {
   "cell_type": "markdown",
   "id": "d88f5497",
   "metadata": {},
   "source": [
    "## Question 4 - Wind Statistics"
   ]
  },
  {
   "cell_type": "code",
   "execution_count": 58,
   "id": "895feaf1",
   "metadata": {},
   "outputs": [
    {
     "name": "stdout",
     "output_type": "stream",
     "text": [
      "      Yr  Mo  Dy    RPT    VAL    ROS    KIL    SHA    BIR    DUB    CLA  \\\n",
      "0     61   1   1  15.04  14.96  13.17   9.29    NaN   9.87  13.67  10.25   \n",
      "1     61   1   2  14.71    NaN  10.83   6.50  12.62   7.67  11.50  10.04   \n",
      "2     61   1   3  18.50  16.88  12.33  10.13  11.17   6.17  11.25    NaN   \n",
      "3     61   1   4  10.58   6.63  11.75   4.58   4.54   2.88   8.63   1.79   \n",
      "4     61   1   5  13.33  13.25  11.42   6.17  10.71   8.21  11.92   6.54   \n",
      "...   ..  ..  ..    ...    ...    ...    ...    ...    ...    ...    ...   \n",
      "6569  78  12  27  17.58  16.96  17.62   8.08  13.21  11.67  14.46  15.59   \n",
      "6570  78  12  28  13.21   5.46  13.46   5.00   8.12   9.42  14.33  16.25   \n",
      "6571  78  12  29  14.00  10.29  14.42   8.71   9.71  10.54  19.17  12.46   \n",
      "6572  78  12  30  18.50  14.04  21.29   9.13  12.75   9.71  18.08  12.87   \n",
      "6573  78  12  31  20.33  17.41  27.29   9.59  12.08  10.13  19.25  11.63   \n",
      "\n",
      "        MUL    CLO    BEL    MAL  \n",
      "0     10.83  12.58  18.50  15.04  \n",
      "1      9.79   9.67  17.54  13.83  \n",
      "2      8.50   7.67  12.75  12.71  \n",
      "3      5.83   5.88   5.46  10.88  \n",
      "4     10.92  10.34  12.92  11.83  \n",
      "...     ...    ...    ...    ...  \n",
      "6569  14.04  14.00  17.21  40.08  \n",
      "6570  15.25  18.05  21.79  41.46  \n",
      "6571  14.50  16.42  18.88  29.58  \n",
      "6572  12.46  12.12  14.67  28.79  \n",
      "6573  11.58  11.38  12.08  22.08  \n",
      "\n",
      "[6574 rows x 15 columns]\n"
     ]
    }
   ],
   "source": [
    "wind_data = pd.read_csv('/Users/dineshkumar/Downloads/ProblemSet3/wind.txt', delim_whitespace=True)\n",
    "\n",
    "print(wind_data)"
   ]
  },
  {
   "cell_type": "code",
   "execution_count": 59,
   "id": "9603097d",
   "metadata": {},
   "outputs": [],
   "source": [
    "wind_data['Date'] = pd.to_datetime(wind_data[['Yr', 'Mo', 'Dy']].astype(str).agg('-'.join, axis=1), format='%y-%m-%d')\n",
    "wind_data.set_index('Date', inplace=True)\n",
    "wind_data.drop(columns=['Yr', 'Mo', 'Dy'], inplace=True)"
   ]
  },
  {
   "cell_type": "code",
   "execution_count": 60,
   "id": "064ebc08",
   "metadata": {},
   "outputs": [],
   "source": [
    "wind_data.index = wind_data.index.map(lambda date: date.replace(year=date.year-100) if date.year > 1969 else date)"
   ]
  },
  {
   "cell_type": "code",
   "execution_count": 61,
   "id": "f0e8d1e2",
   "metadata": {},
   "outputs": [
    {
     "name": "stdout",
     "output_type": "stream",
     "text": [
      "RPT    6\n",
      "VAL    3\n",
      "ROS    2\n",
      "KIL    5\n",
      "SHA    2\n",
      "BIR    0\n",
      "DUB    3\n",
      "CLA    2\n",
      "MUL    3\n",
      "CLO    1\n",
      "BEL    0\n",
      "MAL    4\n",
      "dtype: int64\n"
     ]
    }
   ],
   "source": [
    "missing_values_per_location = wind_data.isnull().sum()\n",
    "print(missing_values_per_location)"
   ]
  },
  {
   "cell_type": "code",
   "execution_count": 62,
   "id": "a9cf0dc8",
   "metadata": {},
   "outputs": [
    {
     "name": "stdout",
     "output_type": "stream",
     "text": [
      "78857\n"
     ]
    }
   ],
   "source": [
    "total_non_missing_values = wind_data.notnull().sum().sum()\n",
    "print(total_non_missing_values)"
   ]
  },
  {
   "cell_type": "code",
   "execution_count": 63,
   "id": "a77d9a02",
   "metadata": {},
   "outputs": [
    {
     "name": "stdout",
     "output_type": "stream",
     "text": [
      "10.227982360836938\n"
     ]
    }
   ],
   "source": [
    "mean_windspeed = wind_data.mean().mean()\n",
    "print(mean_windspeed)"
   ]
  },
  {
   "cell_type": "code",
   "execution_count": 64,
   "id": "e07a3d2b",
   "metadata": {},
   "outputs": [
    {
     "name": "stdout",
     "output_type": "stream",
     "text": [
      "            RPT        VAL        ROS        KIL        SHA        BIR  \\\n",
      "min    0.670000   0.210000   1.500000   0.000000   0.130000   0.000000   \n",
      "max   35.800000  33.370000  33.840000  28.460000  37.540000  26.160000   \n",
      "mean  12.362987  10.644314  11.660526   6.306468  10.455834   7.092254   \n",
      "std    5.618413   5.267356   5.008450   3.605811   4.936125   3.968683   \n",
      "\n",
      "            DUB        CLA        MUL        CLO        BEL        MAL  \n",
      "min    0.000000   0.000000   0.000000   0.040000   0.130000   0.670000  \n",
      "max   30.370000  31.080000  25.880000  28.210000  42.380000  42.540000  \n",
      "mean   9.797343   8.495053   8.493590   8.707332  13.121007  15.599079  \n",
      "std    4.977555   4.499449   4.166872   4.503954   5.835037   6.699794  \n"
     ]
    }
   ],
   "source": [
    "loc_stats = wind_data.agg(['min', 'max', 'mean', 'std'])\n",
    "print(loc_stats)"
   ]
  },
  {
   "cell_type": "code",
   "execution_count": 65,
   "id": "1b56cd1f",
   "metadata": {},
   "outputs": [
    {
     "name": "stdout",
     "output_type": "stream",
     "text": [
      "             min    max       mean       std\n",
      "Date                                        \n",
      "1961-01-01  9.29  18.50  13.018182  2.808875\n",
      "1961-01-02  6.50  17.54  11.336364  3.188994\n",
      "1961-01-03  6.17  18.50  11.641818  3.681912\n",
      "1961-01-04  1.79  11.75   6.619167  3.198126\n",
      "1961-01-05  6.17  13.33  10.630000  2.445356\n",
      "...          ...    ...        ...       ...\n",
      "1878-12-27  8.08  40.08  16.708333  7.868076\n",
      "1878-12-28  5.00  41.46  15.150000  9.687857\n",
      "1878-12-29  8.71  29.58  14.890000  5.756836\n",
      "1878-12-30  9.13  28.79  15.367500  5.540437\n",
      "1878-12-31  9.59  27.29  15.402500  5.702483\n",
      "\n",
      "[6574 rows x 4 columns]\n"
     ]
    }
   ],
   "source": [
    "day_stats = wind_data.agg(['min', 'max', 'mean', 'std'], axis=1)\n",
    "print(day_stats)"
   ]
  },
  {
   "cell_type": "code",
   "execution_count": 66,
   "id": "680ca4db",
   "metadata": {},
   "outputs": [
    {
     "name": "stdout",
     "output_type": "stream",
     "text": [
      "RPT    14.847325\n",
      "VAL    12.914560\n",
      "ROS    13.299624\n",
      "KIL     7.199498\n",
      "SHA    11.667734\n",
      "BIR     8.054839\n",
      "DUB    11.819355\n",
      "CLA     9.512047\n",
      "MUL     9.543208\n",
      "CLO    10.053566\n",
      "BEL    14.550520\n",
      "MAL    18.028763\n",
      "dtype: float64\n"
     ]
    }
   ],
   "source": [
    "january_windspeeds = wind_data[wind_data.index.month == 1].mean()\n",
    "print(january_windspeeds)"
   ]
  },
  {
   "cell_type": "code",
   "execution_count": 68,
   "id": "49cdd3a2",
   "metadata": {},
   "outputs": [
    {
     "name": "stdout",
     "output_type": "stream",
     "text": [
      "\n",
      "Yearly Windspeeds:\n",
      "                   RPT        VAL        ROS       KIL        SHA       BIR  \\\n",
      "Date                                                                         \n",
      "1870-12-31  12.600329  10.726932  11.730247  6.217178  10.567370  7.609452   \n",
      "1871-12-31  11.273123   9.095178  11.088329  5.241507   9.440329  6.097151   \n",
      "1872-12-31  12.463962  10.561311  12.058333  5.929699   9.430410  6.358825   \n",
      "1873-12-31  11.828466  10.680493  10.680493  5.547863   9.640877  6.548740   \n",
      "1874-12-31  13.643096  11.811781  12.336356  6.427041  11.110986  6.809781   \n",
      "...               ...        ...        ...       ...        ...       ...   \n",
      "1965-12-31  12.451370  11.075534  11.848767  6.858466  11.024795  7.478110   \n",
      "1966-12-31  13.461973  11.557205  12.020630  7.345726  11.805041  7.793671   \n",
      "1967-12-31  12.737151  10.990986  11.739397  7.143425  11.630740  7.368164   \n",
      "1968-12-31  11.835628  10.468197  11.409754  6.477678  10.760765  6.067322   \n",
      "1969-12-31  11.166356   9.723699  10.902000  5.767973   9.873918  6.189973   \n",
      "\n",
      "                  DUB       CLA       MUL       CLO        BEL        MAL  \n",
      "Date                                                                       \n",
      "1870-12-31   9.609890  8.334630  9.297616  8.289808  13.183644  16.456027  \n",
      "1871-12-31   8.385890  6.757315  7.915370  7.229753  12.208932  15.025233  \n",
      "1872-12-31   9.704508  7.680792  8.357295  7.515273  12.727377  15.028716  \n",
      "1873-12-31   8.482110  7.614274  8.245534  7.812411  12.169699  15.441096  \n",
      "1874-12-31  10.084603  9.896986  9.331753  8.736356  13.252959  16.947671  \n",
      "...               ...       ...       ...       ...        ...        ...  \n",
      "1965-12-31  10.618712  8.879918  7.907425  9.918082  12.964247  15.591644  \n",
      "1966-12-31  10.579808  8.835096  8.514438  9.768959  14.265836  16.307260  \n",
      "1967-12-31  10.652027  9.325616  8.645014  9.547425  14.774548  17.135945  \n",
      "1968-12-31   8.859180  8.255519  7.224945  7.832978  12.808634  15.017486  \n",
      "1969-12-31   8.564493  7.711397  7.924521  7.754384  12.621233  15.762904  \n",
      "\n",
      "[100 rows x 12 columns]\n"
     ]
    }
   ],
   "source": [
    "yearly_windspeeds = wind_data.resample('Y').mean()\n",
    "print(\"\\nYearly Windspeeds:\\n\", yearly_windspeeds)"
   ]
  },
  {
   "cell_type": "code",
   "execution_count": 69,
   "id": "4eab6548",
   "metadata": {},
   "outputs": [
    {
     "name": "stdout",
     "output_type": "stream",
     "text": [
      "\n",
      "Monthly Windspeeds:\n",
      "                   RPT        VAL        ROS       KIL        SHA       BIR  \\\n",
      "Date                                                                         \n",
      "1870-01-31  13.152581  11.731935  13.083871  5.810968   9.507742  8.040323   \n",
      "1870-02-28  14.820714  13.776071  12.643929  6.894643  11.923929  7.954643   \n",
      "1870-03-31  14.941613  11.496129  13.180968  7.494194  11.484194  8.242581   \n",
      "1870-04-30  14.733333  11.843667  12.711333  7.316667  10.938333  8.707333   \n",
      "1870-05-31  10.185161   9.154194   9.720323  5.639677  10.465484  7.879355   \n",
      "...               ...        ...        ...       ...        ...       ...   \n",
      "1969-08-31  11.567419   9.656774   9.192581  5.661935   9.667097  6.407097   \n",
      "1969-09-30   8.544333   7.146000  10.698000  4.161667   8.561333  4.934000   \n",
      "1969-10-31  10.640968  10.424194  10.522581  5.803548  11.545161  7.075484   \n",
      "1969-11-30  12.462000  11.430667  12.141333  5.499667   9.828667  6.710000   \n",
      "1969-12-31  13.335806  11.969032  12.433226  5.446129   9.766129  7.532581   \n",
      "\n",
      "                  DUB        CLA        MUL        CLO        BEL        MAL  \n",
      "Date                                                                          \n",
      "1870-01-31   9.843226   8.834194   8.407097   7.626452  12.403871  17.192903  \n",
      "1870-02-28  11.837857   9.223214  10.339643   8.415357  14.899643  18.016786  \n",
      "1870-03-31  12.160968  10.082581  10.936774   9.710645  15.041290  19.093226  \n",
      "1870-04-30  11.171667   9.249667  10.004333  10.178333  13.237000  16.899667  \n",
      "1870-05-31   8.982258   8.938387   9.251935   8.784516  13.989355  15.335161  \n",
      "...               ...        ...        ...        ...        ...        ...  \n",
      "1969-08-31   7.070323   6.366452   7.568065   7.800323  11.952258  13.715161  \n",
      "1969-09-30   7.120333   6.839000   6.089333   6.203333  11.665000  14.972333  \n",
      "1969-10-31   8.483871   9.713226   8.495806   8.717419  15.348387  17.298710  \n",
      "1969-11-30  10.166333   8.304667   8.458000   7.864667  14.758667  20.094667  \n",
      "1969-12-31  10.076774   8.656774   8.801935   7.603226  13.511613  17.707097  \n",
      "\n",
      "[1200 rows x 12 columns]\n"
     ]
    }
   ],
   "source": [
    "monthly_windspeeds = wind_data.resample('M').mean()\n",
    "print(\"\\nMonthly Windspeeds:\\n\", monthly_windspeeds)"
   ]
  },
  {
   "cell_type": "code",
   "execution_count": 70,
   "id": "0fe7dcdc",
   "metadata": {},
   "outputs": [
    {
     "name": "stdout",
     "output_type": "stream",
     "text": [
      "\n",
      "Weekly Windspeeds:\n",
      "                   RPT        VAL        ROS       KIL        SHA        BIR  \\\n",
      "Date                                                                          \n",
      "1870-01-02   9.295000   3.625000   9.270000  4.000000   5.960000   5.330000   \n",
      "1870-01-09  13.667143  10.107143  14.188571  5.072857   7.821429   7.101429   \n",
      "1870-01-16   9.292857   8.897143   8.715714  3.552857   6.947143   5.290000   \n",
      "1870-01-23  18.785714  18.094286  17.387143  9.947143  14.272857  12.328571   \n",
      "1870-01-30  10.637143  10.750000  12.015714  4.167143   8.600000   7.125714   \n",
      "...               ...        ...        ...       ...        ...        ...   \n",
      "1969-12-07  14.934286  13.237143  11.287143  6.844286  11.268571   7.547143   \n",
      "1969-12-14  11.642857  10.227143   9.774286  3.804286   8.952857   6.690000   \n",
      "1969-12-21  12.938571  12.470000  14.254286  6.024286   9.851429   8.898571   \n",
      "1969-12-28  12.495714  10.922857   9.672857  4.374286   8.082857   6.187143   \n",
      "1970-01-04  16.443333  14.346667  23.503333  7.166667  11.886667   9.416667   \n",
      "\n",
      "                  DUB        CLA        MUL        CLO        BEL        MAL  \n",
      "Date                                                                          \n",
      "1870-01-02   8.790000   5.335000   8.440000   4.770000   8.750000  14.980000  \n",
      "1870-01-09  11.131429   7.880000   7.692857   6.250000  10.861429  18.237143  \n",
      "1870-01-16   6.714286   6.080000   6.168571   4.810000   8.280000  11.964286  \n",
      "1870-01-23  12.760000  13.601429  12.468571  13.355714  19.052857  23.028571  \n",
      "1870-01-30   7.968571   7.858571   6.281429   5.930000  11.100000  14.797143  \n",
      "...               ...        ...        ...        ...        ...        ...  \n",
      "1969-12-07  10.832857   9.620000  10.775714   8.188571  14.270000  19.334286  \n",
      "1969-12-14   7.864286   7.457143   6.560000   7.054286  13.895714  15.475714  \n",
      "1969-12-21  11.834286   9.052857   9.881429   8.648571  14.021429  19.374286  \n",
      "1969-12-28   7.571429   7.367143   6.757143   5.761429  12.447143  14.191429  \n",
      "1970-01-04  15.220000  11.293333  11.680000   9.376667  12.140000  23.430000  \n",
      "\n",
      "[5219 rows x 12 columns]\n"
     ]
    }
   ],
   "source": [
    "weekly_windspeeds = wind_data.resample('W').mean()\n",
    "print(\"\\nWeekly Windspeeds:\\n\", weekly_windspeeds)"
   ]
  },
  {
   "cell_type": "code",
   "execution_count": 72,
   "id": "2485162a",
   "metadata": {},
   "outputs": [
    {
     "name": "stdout",
     "output_type": "stream",
     "text": [
      "\n",
      "Weekly Statistics (Min, Max, Mean, Std) Across All Locations:\n",
      "               RPT                                VAL                    \\\n",
      "              min    max       mean       std    min    max       mean   \n",
      "Date                                                                     \n",
      "1870-01-03   9.00   9.59   9.295000  0.417193   2.96   4.29   3.625000   \n",
      "1870-01-10   7.92  22.92  13.667143  5.772584   3.50  20.75  10.107143   \n",
      "1870-01-17   5.00  21.67   9.292857  5.576013   3.71  18.79   8.897143   \n",
      "1870-01-24  14.42  22.63  18.785714  3.273815  13.08  23.67  18.094286   \n",
      "1870-01-31   4.79  17.50  10.637143  4.649447   2.17  19.08  10.750000   \n",
      "1870-02-07   7.25  22.46  14.315714  6.694856   7.29  21.79  14.432857   \n",
      "1870-02-14  10.79  19.87  15.988571  3.637781   6.83  26.75  15.754286   \n",
      "1870-02-21   7.46  20.91  14.637143  4.930138   7.79  19.83  13.220000   \n",
      "1870-02-28  10.13  23.29  16.127143  5.161801   6.38  20.83  13.571429   \n",
      "1870-03-07   7.87  23.04  13.798571  4.894117   5.29  15.12   9.524286   \n",
      "1870-03-14  10.54  24.17  17.940000  5.177750   6.25  17.96  12.597143   \n",
      "1870-03-21  10.41  22.95  14.360000  4.409596   7.25  16.96  11.280000   \n",
      "1870-03-28   6.38  14.83  11.070000  3.227042   3.37  17.08   9.754286   \n",
      "1870-04-04  12.42  21.42  17.448571  2.937405   7.00  20.46  13.185714   \n",
      "1870-04-11   6.71  18.00  13.572857  3.806406   3.92  14.54   9.855714   \n",
      "1870-04-18   7.92  19.79  12.862857  4.733137   5.33  17.54  11.594286   \n",
      "1870-04-25  11.46  26.83  16.357143  5.624155   8.46  23.16  14.914286   \n",
      "1870-05-02   8.83  26.71  15.350000  5.872509   9.21  17.96  12.727143   \n",
      "1870-05-09   7.87  16.75  13.101429  2.833222   7.08  18.91  11.795714   \n",
      "1870-05-16   3.33  11.71   7.070000  2.702166   3.67   9.59   6.430000   \n",
      "1870-05-23   3.83  21.84  10.960000  5.846526   2.42  13.42   7.698571   \n",
      "1870-05-30   6.34  13.46   9.318571  2.462549   6.92  13.92   9.865714   \n",
      "1870-06-06   5.37  17.75  10.584286  4.456684   5.88  18.58   9.970000   \n",
      "1870-06-13   2.21  10.21   5.774286  2.509222   1.71   6.38   3.131429   \n",
      "1870-06-20   2.71  11.50   7.534286  2.997743   2.96   6.71   4.754286   \n",
      "1870-06-27   9.79  22.71  14.511429  4.274176   9.17  14.71  11.851429   \n",
      "1870-07-04   6.38  20.96  14.507143  5.617988   4.12  17.12  11.028571   \n",
      "1870-07-11   4.50  13.92  10.327143  3.196747   5.50  11.17   8.751429   \n",
      "1870-07-18   7.62  21.54  13.744286  4.498155   3.71  15.29   9.208571   \n",
      "1870-07-25   6.54  18.79  12.005714  4.489547   3.04  11.92   7.278571   \n",
      "1870-08-01   7.67  13.67  10.667143  1.764008   6.96  15.96  10.275714   \n",
      "1870-08-08   2.67  10.17   5.592857  2.453166   2.79  13.59   7.215714   \n",
      "1870-08-15   4.08  13.50  10.297143  3.113127   3.83  11.21   8.322857   \n",
      "1870-08-22   4.96  26.38  16.014286  8.307288   4.46  16.17  11.274286   \n",
      "1870-08-29   2.54  14.71   5.690000  4.155655   2.25   7.17   4.531429   \n",
      "1870-09-05   5.09  16.17  11.697143  4.086273   7.92  16.46  12.507143   \n",
      "1870-09-12   3.37  31.42  14.351429  9.578630   6.67  28.50  15.740000   \n",
      "1870-09-19   3.83  21.04  11.475714  6.142931   3.37  18.58  10.290000   \n",
      "1870-09-26   6.00  14.58   9.071429  2.969716   4.75  17.29   9.798571   \n",
      "1870-10-03   5.75  25.29  14.988571  5.850195   8.00  17.96  13.957143   \n",
      "1870-10-10   5.91  16.54  12.231429  3.937391   5.71  14.21  10.400000   \n",
      "1870-10-17   4.38  13.33   9.542857  2.963808   2.37  18.91  10.164286   \n",
      "1870-10-24   3.63  24.92  13.667143  7.718985   4.12  17.92  10.988571   \n",
      "1870-10-31   5.54  20.30  14.802857  4.684964   6.13  18.75  13.710000   \n",
      "1870-11-07  10.58  22.25  15.082857  4.681384   8.83  20.30  14.540000   \n",
      "1870-11-14   7.67  18.08  13.082857  3.106100   9.62  15.54  12.727143   \n",
      "1870-11-21  12.54  18.00  14.357143  2.383504   6.83  14.67  10.362857   \n",
      "1870-11-28   9.50  25.12  15.308571  6.200122   5.13  23.00  13.731429   \n",
      "1870-12-05   4.00  15.83  11.172857  4.088417   2.67  15.75  10.138571   \n",
      "1870-12-12   5.66  21.62  12.934286  5.601845   1.25  18.21   8.541429   \n",
      "1870-12-19   6.00  18.21  12.625714  5.855646   6.63  17.41  12.154286   \n",
      "1870-12-26   7.79  16.08  11.538571  3.003545   3.21  12.79   7.432857   \n",
      "\n",
      "                        ROS         ...        CLO              BEL         \\\n",
      "                 std    min    max  ...       mean       std    min    max   \n",
      "Date                                ...                                      \n",
      "1870-01-03  0.940452   6.75  11.79  ...   4.770000  1.796051   7.33  10.17   \n",
      "1870-01-10  6.464765   8.12  24.08  ...   6.250000  2.796808   7.04  17.12   \n",
      "1870-01-17  5.215566   6.08  18.41  ...   4.810000  2.746574   1.71  14.33   \n",
      "1870-01-24  3.840091  13.13  21.42  ...  13.355714  4.430018  10.83  28.12   \n",
      "1870-01-31  6.614668   4.42  18.12  ...   5.930000  4.493840   4.50  18.79   \n",
      "1870-02-07  6.030383   7.54  20.91  ...   9.578571  6.416908   6.54  24.08   \n",
      "1870-02-14  7.734554   7.08  21.71  ...   8.195714  3.599661   4.29  23.71   \n",
      "1870-02-21  4.442541   7.12  15.59  ...   7.832857  3.347361   8.71  19.08   \n",
      "1870-02-28  4.936522   9.17  18.96  ...   9.667143  4.645768   8.46  24.83   \n",
      "1870-03-07  4.022722   7.54  16.79  ...   7.654286  2.924015   4.58  19.50   \n",
      "1870-03-14  4.313370   6.00  31.83  ...  10.630000  4.219064  10.71  21.42   \n",
      "1870-03-21  4.232198   8.46  17.29  ...  10.571429  4.718939   4.21  22.34   \n",
      "1870-03-28  4.275242   5.50  22.58  ...   7.191429  3.049860   5.41  15.46   \n",
      "1870-04-04  4.883410   9.83  19.25  ...  11.731429  2.765480   9.67  22.83   \n",
      "1870-04-11  3.615646   6.75  23.75  ...   9.500000  2.940215   6.71  16.38   \n",
      "1870-04-18  4.865521   6.87  17.33  ...   9.364286  4.308332   7.41  21.04   \n",
      "1870-04-25  5.509679   8.79  23.00  ...  11.398571  4.353204   8.17  25.29   \n",
      "1870-05-02  3.420876   6.38  21.50  ...  11.238571  3.531404   6.21  25.75   \n",
      "1870-05-09  3.972148   5.58  16.00  ...  10.810000  4.081176   5.58  27.50   \n",
      "1870-05-16  2.115955   3.54  17.12  ...   6.105714  3.239145   7.38  12.79   \n",
      "1870-05-23  4.097590   6.21  13.46  ...   9.100000  4.512147   8.50  19.50   \n",
      "1870-05-30  2.774592   6.63  12.87  ...   8.138571  2.276806  10.79  20.96   \n",
      "1870-06-06  4.525634   5.50  14.17  ...   7.631429  2.161430   8.17  14.54   \n",
      "1870-06-13  1.563782   4.71  19.17  ...   3.210000  1.988995   3.21   8.46   \n",
      "1870-06-20  1.483631   4.75  18.46  ...   3.435714  2.414172   7.58  12.33   \n",
      "1870-06-27  2.012572  10.88  17.41  ...  10.210000  3.615951  10.21  19.83   \n",
      "1870-07-04  4.262411   8.67  13.25  ...  11.521429  3.472009  10.21  23.00   \n",
      "1870-07-11  1.866105   4.67  11.42  ...   8.141429  1.934902  11.54  19.12   \n",
      "1870-07-18  4.007428   6.34  14.29  ...  10.090000  3.506442  10.34  21.34   \n",
      "1870-07-25  3.011774   8.08  15.87  ...   6.804286  2.348168   4.92  13.42   \n",
      "1870-08-01  2.770805   8.21  13.96  ...   7.077143  3.285188   7.46  20.58   \n",
      "1870-08-08  3.987087   4.33  12.17  ...   4.012857  1.106778   5.04  13.96   \n",
      "1870-08-15  2.441350   4.21  11.00  ...   6.874286  2.139859   6.58  18.21   \n",
      "1870-08-22  4.612710   8.21  18.50  ...  11.238571  7.637466   5.33  19.87   \n",
      "1870-08-29  2.016610   3.79  12.12  ...   1.851429  1.384743   2.67   5.58   \n",
      "1870-09-05  3.371344   6.04  16.88  ...   9.731429  3.771575   9.25  22.34   \n",
      "1870-09-12  7.371678   7.62  28.21  ...  10.295714  6.348839   9.00  25.75   \n",
      "1870-09-19  6.221476   5.88  19.95  ...   6.445714  4.547955   7.58  19.21   \n",
      "1870-09-26  4.038611   5.09  11.79  ...   5.842857  2.821753   6.21  18.79   \n",
      "1870-10-03  3.549834   4.42  15.09  ...  12.391429  4.400611  12.96  25.41   \n",
      "1870-10-10  3.351229   5.37  14.92  ...   9.394286  3.262907   9.08  23.45   \n",
      "1870-10-17  5.107716   5.33  10.00  ...   4.792857  1.442818   6.46  13.96   \n",
      "1870-10-24  5.494850   4.21  22.58  ...  10.552857  4.484691   9.29  24.75   \n",
      "1870-10-31  3.974229   6.17  18.66  ...   8.691429  2.755669  11.17  20.75   \n",
      "1870-11-07  4.847673   8.12  19.38  ...  12.111429  3.060008   9.21  26.67   \n",
      "1870-11-14  2.436101   6.75  21.87  ...   9.978571  3.117181   8.92  20.25   \n",
      "1870-11-21  2.897785  10.04  17.25  ...   5.834286  1.587680   7.46  15.29   \n",
      "1870-11-28  6.083268   7.12  23.58  ...   7.362857  1.382313   7.67  14.04   \n",
      "1870-12-05  4.465854   5.09  15.09  ...   7.995714  4.008054   4.46  22.83   \n",
      "1870-12-12  6.472523   9.25  15.96  ...   6.577143  5.758769   3.67  22.50   \n",
      "1870-12-19  4.827980   7.17  15.67  ...   8.840000  3.924424   6.71  21.17   \n",
      "1870-12-26  3.499156  10.25  19.50  ...   7.037143  3.446490   3.04  14.25   \n",
      "\n",
      "                                   MAL                              \n",
      "                 mean       std    min    max       mean       std  \n",
      "Date                                                                \n",
      "1870-01-03   8.750000  2.008183  13.00  16.96  14.980000  2.800143  \n",
      "1870-01-10  10.861429  3.447209  12.17  25.62  18.237143  4.201538  \n",
      "1870-01-17   8.280000  4.444180   5.96  19.92  11.964286  5.204792  \n",
      "1870-01-24  19.052857  6.375967  14.75  32.00  23.028571  5.124875  \n",
      "1870-01-31  11.100000  4.999887   8.54  21.67  14.797143  5.640838  \n",
      "1870-02-07  16.427143  7.319013   5.29  28.96  20.355714  8.886488  \n",
      "1870-02-14  14.928571  8.215265   9.25  23.25  17.594286  5.451703  \n",
      "1870-02-21  13.641429  4.285827  14.12  25.41  18.590000  4.448768  \n",
      "1870-02-28  17.084286  6.271844   8.46  28.29  17.681429  7.725196  \n",
      "1870-03-07  12.872857  5.272295  11.75  26.16  17.898571  5.235098  \n",
      "1870-03-14  16.755714  4.371822  14.71  27.67  21.255714  4.977452  \n",
      "1870-03-21  15.381429  6.355162   9.96  27.16  19.134286  6.312276  \n",
      "1870-03-28  11.522857  3.186580   7.17  24.79  14.618571  7.203794  \n",
      "1870-04-04  15.911429  4.684849  16.17  34.08  21.297143  6.169964  \n",
      "1870-04-11  12.198571  3.609850  11.63  25.12  19.858571  5.199812  \n",
      "1870-04-18  13.998571  5.419137   8.75  17.54  14.258571  3.589027  \n",
      "1870-04-25  14.870000  5.175770  11.67  22.29  16.292857  4.200221  \n",
      "1870-05-02  14.162857  6.394241  11.38  24.08  16.844286  4.886907  \n",
      "1870-05-09  13.547143  7.311798  11.79  20.04  16.107143  3.007406  \n",
      "1870-05-16  10.022857  1.903993   3.58  17.41  10.421429  6.090912  \n",
      "1870-05-23  14.102857  3.862239   9.25  26.25  17.821429  6.552894  \n",
      "1870-05-30  16.535714  3.582187   9.42  20.41  15.790000  4.232226  \n",
      "1870-06-06  11.804286  2.468156   9.83  17.75  14.761429  2.765305  \n",
      "1870-06-13   5.820000  1.976057   3.79  11.08   6.898571  2.836785  \n",
      "1870-06-20   9.682857  2.002313   3.08  16.38   8.262857  4.533842  \n",
      "1870-06-27  15.058571  3.346284   8.29  27.33  16.002857  6.772790  \n",
      "1870-07-04  15.792857  4.067373   9.79  29.63  19.410000  6.682138  \n",
      "1870-07-11  15.220000  2.430610   8.17  20.79  15.628571  4.807367  \n",
      "1870-07-18  15.628571  4.100998  13.59  25.29  20.561429  4.279386  \n",
      "1870-07-25  10.702857  2.875365   5.75  20.38  15.052857  5.126762  \n",
      "1870-08-01  12.231429  4.531741   5.37  20.12  11.530000  5.523894  \n",
      "1870-08-08   9.828571  3.198523   4.42  12.38   7.595714  2.772237  \n",
      "1870-08-15  11.797143  4.647805   6.71  18.29  13.470000  4.128672  \n",
      "1870-08-22  12.944286  4.815675   8.87  34.33  19.410000  8.442802  \n",
      "1870-08-29   3.708571  1.073335   3.37   6.29   4.767143  0.954004  \n",
      "1870-09-05  15.868571  4.611086   5.96  27.33  18.362857  6.521369  \n",
      "1870-09-12  15.582857  5.340517   8.08  27.75  17.112857  6.413781  \n",
      "1870-09-19  11.845714  4.085894  10.29  18.50  14.152857  2.979171  \n",
      "1870-09-26  11.011429  4.205419   7.17  15.92  11.642857  2.771352  \n",
      "1870-10-03  19.874286  5.009035  12.87  32.96  22.831429  7.061998  \n",
      "1870-10-10  17.011429  4.765803  14.92  30.13  22.661429  4.933215  \n",
      "1870-10-17   9.322857  2.524637   8.71  12.21  10.454286  1.245965  \n",
      "1870-10-24  17.947143  6.118880  12.25  35.92  24.930000  8.811510  \n",
      "1870-10-31  14.227143  3.121606  12.21  21.84  17.234286  3.892736  \n",
      "1870-11-07  19.394286  6.162924  14.00  26.92  23.344286  4.500544  \n",
      "1870-11-14  15.578571  3.969250  11.08  29.25  20.477143  6.005683  \n",
      "1870-11-21  11.328571  2.434779   8.29  20.91  15.385714  4.105082  \n",
      "1870-11-28  11.345714  2.529683  10.92  20.12  15.225714  3.551248  \n",
      "1870-12-05  12.690000  6.502907  10.50  26.16  16.917143  4.879251  \n",
      "1870-12-12  10.328571  7.737763   8.17  28.75  15.745714  8.323925  \n",
      "1870-12-19  13.975714  4.863674  14.37  23.96  18.832857  3.214129  \n",
      "1870-12-26   7.691429  4.240686  13.25  25.29  16.970000  4.251059  \n",
      "\n",
      "[52 rows x 48 columns]\n"
     ]
    }
   ],
   "source": [
    "weekly_stats = wind_data.resample('W').agg(['min', 'max', 'mean', 'std'])\n",
    "weekly_stats.index = weekly_stats.index + pd.offsets.Day(1)  # Shift the index by 1 day to start from January 2, 1961\n",
    "print(\"\\nWeekly Statistics (Min, Max, Mean, Std) Across All Locations:\\n\", weekly_stats.head(52))  # Display the first 52 weeks"
   ]
  },
  {
   "cell_type": "markdown",
   "id": "2b52414c",
   "metadata": {},
   "source": [
    "## Question 5 - Chipotle Dataset"
   ]
  },
  {
   "cell_type": "code",
   "execution_count": 73,
   "id": "4376d9f3",
   "metadata": {},
   "outputs": [],
   "source": [
    "# Step 2: Import the dataset\n",
    "chipo = pd.read_csv('https://raw.githubusercontent.com/justmarkham/DAT8/master/data/chipotle.tsv', sep='\\t')"
   ]
  },
  {
   "cell_type": "code",
   "execution_count": 74,
   "id": "51e0fd96",
   "metadata": {},
   "outputs": [
    {
     "data": {
      "text/html": [
       "<div>\n",
       "<style scoped>\n",
       "    .dataframe tbody tr th:only-of-type {\n",
       "        vertical-align: middle;\n",
       "    }\n",
       "\n",
       "    .dataframe tbody tr th {\n",
       "        vertical-align: top;\n",
       "    }\n",
       "\n",
       "    .dataframe thead th {\n",
       "        text-align: right;\n",
       "    }\n",
       "</style>\n",
       "<table border=\"1\" class=\"dataframe\">\n",
       "  <thead>\n",
       "    <tr style=\"text-align: right;\">\n",
       "      <th></th>\n",
       "      <th>order_id</th>\n",
       "      <th>quantity</th>\n",
       "      <th>item_name</th>\n",
       "      <th>choice_description</th>\n",
       "      <th>item_price</th>\n",
       "    </tr>\n",
       "  </thead>\n",
       "  <tbody>\n",
       "    <tr>\n",
       "      <th>0</th>\n",
       "      <td>1</td>\n",
       "      <td>1</td>\n",
       "      <td>Chips and Fresh Tomato Salsa</td>\n",
       "      <td>NaN</td>\n",
       "      <td>$2.39</td>\n",
       "    </tr>\n",
       "    <tr>\n",
       "      <th>1</th>\n",
       "      <td>1</td>\n",
       "      <td>1</td>\n",
       "      <td>Izze</td>\n",
       "      <td>[Clementine]</td>\n",
       "      <td>$3.39</td>\n",
       "    </tr>\n",
       "    <tr>\n",
       "      <th>2</th>\n",
       "      <td>1</td>\n",
       "      <td>1</td>\n",
       "      <td>Nantucket Nectar</td>\n",
       "      <td>[Apple]</td>\n",
       "      <td>$3.39</td>\n",
       "    </tr>\n",
       "    <tr>\n",
       "      <th>3</th>\n",
       "      <td>1</td>\n",
       "      <td>1</td>\n",
       "      <td>Chips and Tomatillo-Green Chili Salsa</td>\n",
       "      <td>NaN</td>\n",
       "      <td>$2.39</td>\n",
       "    </tr>\n",
       "    <tr>\n",
       "      <th>4</th>\n",
       "      <td>2</td>\n",
       "      <td>2</td>\n",
       "      <td>Chicken Bowl</td>\n",
       "      <td>[Tomatillo-Red Chili Salsa (Hot), [Black Beans...</td>\n",
       "      <td>$16.98</td>\n",
       "    </tr>\n",
       "    <tr>\n",
       "      <th>5</th>\n",
       "      <td>3</td>\n",
       "      <td>1</td>\n",
       "      <td>Chicken Bowl</td>\n",
       "      <td>[Fresh Tomato Salsa (Mild), [Rice, Cheese, Sou...</td>\n",
       "      <td>$10.98</td>\n",
       "    </tr>\n",
       "    <tr>\n",
       "      <th>6</th>\n",
       "      <td>3</td>\n",
       "      <td>1</td>\n",
       "      <td>Side of Chips</td>\n",
       "      <td>NaN</td>\n",
       "      <td>$1.69</td>\n",
       "    </tr>\n",
       "    <tr>\n",
       "      <th>7</th>\n",
       "      <td>4</td>\n",
       "      <td>1</td>\n",
       "      <td>Steak Burrito</td>\n",
       "      <td>[Tomatillo Red Chili Salsa, [Fajita Vegetables...</td>\n",
       "      <td>$11.75</td>\n",
       "    </tr>\n",
       "    <tr>\n",
       "      <th>8</th>\n",
       "      <td>4</td>\n",
       "      <td>1</td>\n",
       "      <td>Steak Soft Tacos</td>\n",
       "      <td>[Tomatillo Green Chili Salsa, [Pinto Beans, Ch...</td>\n",
       "      <td>$9.25</td>\n",
       "    </tr>\n",
       "    <tr>\n",
       "      <th>9</th>\n",
       "      <td>5</td>\n",
       "      <td>1</td>\n",
       "      <td>Steak Burrito</td>\n",
       "      <td>[Fresh Tomato Salsa, [Rice, Black Beans, Pinto...</td>\n",
       "      <td>$9.25</td>\n",
       "    </tr>\n",
       "  </tbody>\n",
       "</table>\n",
       "</div>"
      ],
      "text/plain": [
       "   order_id  quantity                              item_name  \\\n",
       "0         1         1           Chips and Fresh Tomato Salsa   \n",
       "1         1         1                                   Izze   \n",
       "2         1         1                       Nantucket Nectar   \n",
       "3         1         1  Chips and Tomatillo-Green Chili Salsa   \n",
       "4         2         2                           Chicken Bowl   \n",
       "5         3         1                           Chicken Bowl   \n",
       "6         3         1                          Side of Chips   \n",
       "7         4         1                          Steak Burrito   \n",
       "8         4         1                       Steak Soft Tacos   \n",
       "9         5         1                          Steak Burrito   \n",
       "\n",
       "                                  choice_description item_price  \n",
       "0                                                NaN     $2.39   \n",
       "1                                       [Clementine]     $3.39   \n",
       "2                                            [Apple]     $3.39   \n",
       "3                                                NaN     $2.39   \n",
       "4  [Tomatillo-Red Chili Salsa (Hot), [Black Beans...    $16.98   \n",
       "5  [Fresh Tomato Salsa (Mild), [Rice, Cheese, Sou...    $10.98   \n",
       "6                                                NaN     $1.69   \n",
       "7  [Tomatillo Red Chili Salsa, [Fajita Vegetables...    $11.75   \n",
       "8  [Tomatillo Green Chili Salsa, [Pinto Beans, Ch...     $9.25   \n",
       "9  [Fresh Tomato Salsa, [Rice, Black Beans, Pinto...     $9.25   "
      ]
     },
     "execution_count": 74,
     "metadata": {},
     "output_type": "execute_result"
    }
   ],
   "source": [
    "chipo.head(10)"
   ]
  },
  {
   "cell_type": "code",
   "execution_count": 75,
   "id": "ac0ce972",
   "metadata": {},
   "outputs": [
    {
     "name": "stdout",
     "output_type": "stream",
     "text": [
      "4622\n"
     ]
    }
   ],
   "source": [
    "num_observations = chipo.shape[0]\n",
    "print(num_observations)"
   ]
  },
  {
   "cell_type": "code",
   "execution_count": 76,
   "id": "05e90327",
   "metadata": {},
   "outputs": [
    {
     "name": "stdout",
     "output_type": "stream",
     "text": [
      "5\n"
     ]
    }
   ],
   "source": [
    "num_columns = chipo.shape[1]\n",
    "print(num_columns)"
   ]
  },
  {
   "cell_type": "code",
   "execution_count": 77,
   "id": "829de82d",
   "metadata": {},
   "outputs": [
    {
     "name": "stdout",
     "output_type": "stream",
     "text": [
      "Index(['order_id', 'quantity', 'item_name', 'choice_description',\n",
      "       'item_price'],\n",
      "      dtype='object')\n"
     ]
    }
   ],
   "source": [
    "print(chipo.columns)"
   ]
  },
  {
   "cell_type": "code",
   "execution_count": 78,
   "id": "d68b2b49",
   "metadata": {},
   "outputs": [
    {
     "name": "stdout",
     "output_type": "stream",
     "text": [
      "RangeIndex(start=0, stop=4622, step=1)\n"
     ]
    }
   ],
   "source": [
    "print(chipo.index)"
   ]
  },
  {
   "cell_type": "code",
   "execution_count": 79,
   "id": "2099abfb",
   "metadata": {},
   "outputs": [
    {
     "name": "stdout",
     "output_type": "stream",
     "text": [
      "quantity    Chicken Bowl\n",
      "dtype: object\n"
     ]
    }
   ],
   "source": [
    "most_ordered_item = chipo.groupby('item_name').agg({'quantity':'sum'}).idxmax()\n",
    "print(most_ordered_item)"
   ]
  },
  {
   "cell_type": "code",
   "execution_count": 80,
   "id": "e26a2e59",
   "metadata": {},
   "outputs": [
    {
     "name": "stdout",
     "output_type": "stream",
     "text": [
      "quantity    761\n",
      "dtype: int64\n"
     ]
    }
   ],
   "source": [
    "most_ordered_item_quantity = chipo.groupby('item_name').agg({'quantity':'sum'}).max()\n",
    "print(most_ordered_item_quantity)"
   ]
  },
  {
   "cell_type": "code",
   "execution_count": 81,
   "id": "962f22d7",
   "metadata": {},
   "outputs": [
    {
     "name": "stdout",
     "output_type": "stream",
     "text": [
      "[Diet Coke]\n"
     ]
    }
   ],
   "source": [
    "most_ordered_choice_description = chipo['choice_description'].value_counts().idxmax()\n",
    "print(most_ordered_choice_description)"
   ]
  },
  {
   "cell_type": "code",
   "execution_count": 82,
   "id": "3d241006",
   "metadata": {},
   "outputs": [
    {
     "name": "stdout",
     "output_type": "stream",
     "text": [
      "4972\n"
     ]
    }
   ],
   "source": [
    "total_items_ordered = chipo['quantity'].sum()\n",
    "print(total_items_ordered)"
   ]
  },
  {
   "cell_type": "code",
   "execution_count": 83,
   "id": "b0d2b427",
   "metadata": {},
   "outputs": [
    {
     "name": "stdout",
     "output_type": "stream",
     "text": [
      "float64\n"
     ]
    }
   ],
   "source": [
    "chipo['item_price'] = chipo['item_price'].str.replace('$', '').astype(float)\n",
    "print(chipo['item_price'].dtype)"
   ]
  },
  {
   "cell_type": "code",
   "execution_count": 84,
   "id": "da04e60b",
   "metadata": {},
   "outputs": [
    {
     "name": "stdout",
     "output_type": "stream",
     "text": [
      "39237.02\n"
     ]
    }
   ],
   "source": [
    "total_revenue = (chipo['quantity'] * chipo['item_price']).sum()\n",
    "print(total_revenue)"
   ]
  },
  {
   "cell_type": "code",
   "execution_count": 85,
   "id": "b360c44a",
   "metadata": {},
   "outputs": [
    {
     "name": "stdout",
     "output_type": "stream",
     "text": [
      "\n",
      "Total Number of Orders:\n",
      " 1834\n"
     ]
    }
   ],
   "source": [
    "total_orders = chipo['order_id'].nunique()\n",
    "print(\"\\nTotal Number of Orders:\\n\", total_orders)"
   ]
  },
  {
   "cell_type": "code",
   "execution_count": 86,
   "id": "289265b2",
   "metadata": {},
   "outputs": [
    {
     "name": "stdout",
     "output_type": "stream",
     "text": [
      "21.39423118865867\n"
     ]
    }
   ],
   "source": [
    "average_revenue_per_order = total_revenue / total_orders\n",
    "print(average_revenue_per_order)"
   ]
  },
  {
   "cell_type": "code",
   "execution_count": 87,
   "id": "943dc170",
   "metadata": {},
   "outputs": [
    {
     "name": "stdout",
     "output_type": "stream",
     "text": [
      "50\n"
     ]
    }
   ],
   "source": [
    "num_different_items = chipo['item_name'].nunique()\n",
    "print(num_different_items)"
   ]
  },
  {
   "cell_type": "markdown",
   "id": "e14cec90",
   "metadata": {},
   "source": [
    "## Question 6 \n",
    "Create a line plot showing the number of marriages and divorces per capita in the\n",
    "U.S. between 1867 and 2014."
   ]
  },
  {
   "cell_type": "code",
   "execution_count": 100,
   "id": "ef0bb6d7",
   "metadata": {},
   "outputs": [],
   "source": [
    "import matplotlib.pyplot as plt"
   ]
  },
  {
   "cell_type": "code",
   "execution_count": 101,
   "id": "46537693",
   "metadata": {},
   "outputs": [
    {
     "data": {
      "text/html": [
       "<div>\n",
       "<style scoped>\n",
       "    .dataframe tbody tr th:only-of-type {\n",
       "        vertical-align: middle;\n",
       "    }\n",
       "\n",
       "    .dataframe tbody tr th {\n",
       "        vertical-align: top;\n",
       "    }\n",
       "\n",
       "    .dataframe thead th {\n",
       "        text-align: right;\n",
       "    }\n",
       "</style>\n",
       "<table border=\"1\" class=\"dataframe\">\n",
       "  <thead>\n",
       "    <tr style=\"text-align: right;\">\n",
       "      <th></th>\n",
       "      <th>Year</th>\n",
       "      <th>Marriages</th>\n",
       "      <th>Divorces</th>\n",
       "      <th>Population</th>\n",
       "      <th>Marriages_per_1000</th>\n",
       "      <th>Divorces_per_1000</th>\n",
       "    </tr>\n",
       "  </thead>\n",
       "  <tbody>\n",
       "    <tr>\n",
       "      <th>0</th>\n",
       "      <td>1867</td>\n",
       "      <td>357000.0</td>\n",
       "      <td>10000.0</td>\n",
       "      <td>36970000</td>\n",
       "      <td>9.7</td>\n",
       "      <td>0.3</td>\n",
       "    </tr>\n",
       "    <tr>\n",
       "      <th>1</th>\n",
       "      <td>1868</td>\n",
       "      <td>345000.0</td>\n",
       "      <td>10000.0</td>\n",
       "      <td>37885000</td>\n",
       "      <td>9.1</td>\n",
       "      <td>0.3</td>\n",
       "    </tr>\n",
       "    <tr>\n",
       "      <th>2</th>\n",
       "      <td>1869</td>\n",
       "      <td>348000.0</td>\n",
       "      <td>11000.0</td>\n",
       "      <td>38870000</td>\n",
       "      <td>9.0</td>\n",
       "      <td>0.3</td>\n",
       "    </tr>\n",
       "    <tr>\n",
       "      <th>3</th>\n",
       "      <td>1870</td>\n",
       "      <td>352000.0</td>\n",
       "      <td>11000.0</td>\n",
       "      <td>39905000</td>\n",
       "      <td>8.8</td>\n",
       "      <td>0.3</td>\n",
       "    </tr>\n",
       "    <tr>\n",
       "      <th>4</th>\n",
       "      <td>1871</td>\n",
       "      <td>359000.0</td>\n",
       "      <td>12000.0</td>\n",
       "      <td>41010000</td>\n",
       "      <td>8.8</td>\n",
       "      <td>0.3</td>\n",
       "    </tr>\n",
       "  </tbody>\n",
       "</table>\n",
       "</div>"
      ],
      "text/plain": [
       "   Year  Marriages  Divorces  Population  Marriages_per_1000  \\\n",
       "0  1867   357000.0   10000.0    36970000                 9.7   \n",
       "1  1868   345000.0   10000.0    37885000                 9.1   \n",
       "2  1869   348000.0   11000.0    38870000                 9.0   \n",
       "3  1870   352000.0   11000.0    39905000                 8.8   \n",
       "4  1871   359000.0   12000.0    41010000                 8.8   \n",
       "\n",
       "   Divorces_per_1000  \n",
       "0                0.3  \n",
       "1                0.3  \n",
       "2                0.3  \n",
       "3                0.3  \n",
       "4                0.3  "
      ]
     },
     "execution_count": 101,
     "metadata": {},
     "output_type": "execute_result"
    }
   ],
   "source": [
    "us_marriages_divorces = pd.read_csv('/Users/dineshkumar/Downloads/ProblemSet3/us-marriages-divorces-1867-2014.csv')\n",
    "\n",
    "us_marriages_divorces.head()"
   ]
  },
  {
   "cell_type": "code",
   "execution_count": 102,
   "id": "10b6a90d",
   "metadata": {},
   "outputs": [
    {
     "data": {
      "image/png": "[encoded data removed]",
      "text/plain": [
       "<Figure size 1000x500 with 1 Axes>"
      ]
     },
     "metadata": {},
     "output_type": "display_data"
    }
   ],
   "source": [
    "plt.figure(figsize=(10,5))\n",
    "plt.plot(us_marriages_divorces['Year'], us_marriages_divorces['Marriages_per_1000'], label='Marriages per Capita')\n",
    "plt.plot(us_marriages_divorces['Year'], us_marriages_divorces['Divorces_per_1000'], label='Divorces per Capita')\n",
    "\n",
    "plt.xlabel('Year')\n",
    "plt.ylabel('Per Capita')\n",
    "plt.title('Marriages and Divorces per Capita in the U.S. (1867-2014)')\n",
    "plt.legend()\n",
    "plt.show()"
   ]
  },
  {
   "cell_type": "markdown",
   "id": "0b278ac1",
   "metadata": {},
   "source": [
    "## Question 7\n",
    "\n",
    "Create a vertical bar chart comparing the number of marriages and divorces per\n",
    "capita in the U.S. between 1900, 1950, and 2000."
   ]
  },
  {
   "cell_type": "code",
   "execution_count": 103,
   "id": "bfb8205f",
   "metadata": {},
   "outputs": [
    {
     "data": {
      "image/png": "[encoded data removed]",
      "text/plain": [
       "<Figure size 1000x500 with 1 Axes>"
      ]
     },
     "metadata": {},
     "output_type": "display_data"
    }
   ],
   "source": [
    "selected_years = us_marriages_divorces[us_marriages_divorces['Year'].isin([1900, 1950, 2000])]\n",
    "\n",
    "plt.figure(figsize=(10,5))\n",
    "plt.bar(selected_years['Year'] - 2, selected_years['Marriages_per_1000'], width=4, label='Marriages per Capita')\n",
    "plt.bar(selected_years['Year'] + 2, selected_years['Divorces_per_1000'], width=4, label='Divorces per Capita')\n",
    "\n",
    "plt.xlabel('Year')\n",
    "plt.ylabel('Per Capita')\n",
    "plt.title('Marriages and Divorces per Capita in the U.S. (1900, 1950, 2000)')\n",
    "plt.legend()\n",
    "plt.show()"
   ]
  },
  {
   "cell_type": "markdown",
   "id": "1d807e51",
   "metadata": {},
   "source": [
    "## Question 8"
   ]
  },
  {
   "cell_type": "markdown",
   "id": "65063926",
   "metadata": {},
   "source": [
    "Create a horizontal bar chart that compares the deadliest actors in Hollywood. Sort\n",
    "the actors by their kill count and label each bar with the corresponding actor's name"
   ]
  },
  {
   "cell_type": "code",
   "execution_count": 108,
   "id": "ff0bcf2d",
   "metadata": {},
   "outputs": [
    {
     "name": "stdout",
     "output_type": "stream",
     "text": [
      "                   Actor  Count\n",
      "0  Arnold Schwarzenegger    369\n",
      "1           Chow Yun-Fat    295\n",
      "2         Clint Eastwood    207\n",
      "3             Clive Owen    194\n",
      "4         Dolph Lundgren    239\n",
      "5                 Jet Li    201\n",
      "6           Nicolas Cage    204\n",
      "7     Sylvester Stallone    267\n",
      "8    Tomisaburo Wakayama    226\n",
      "9          Wesley Snipes    193\n"
     ]
    }
   ],
   "source": [
    "actor_kill_counts = pd.read_csv('/Users/dineshkumar/Downloads/ProblemSet3/actor_kill_counts.csv')\n",
    "\n",
    "print(actor_kill_counts)"
   ]
  },
  {
   "cell_type": "code",
   "execution_count": 111,
   "id": "842b5700",
   "metadata": {},
   "outputs": [
    {
     "data": {
      "image/png": "[encoded data removed]",
      "text/plain": [
       "<Figure size 1000x500 with 1 Axes>"
      ]
     },
     "metadata": {},
     "output_type": "display_data"
    }
   ],
   "source": [
    "actor_kill_counts_sorted = actor_kill_counts.sort_values(by='Count', ascending=False)\n",
    "\n",
    "plt.figure(figsize=(10,5))\n",
    "plt.barh(actor_kill_counts_sorted['Actor'], actor_kill_counts_sorted['Count'], color='red')\n",
    "\n",
    "plt.xlabel('Kill Count')\n",
    "plt.ylabel('Actor')\n",
    "plt.title('Deadliest Actors in Hollywood')\n",
    "plt.show()"
   ]
  },
  {
   "cell_type": "markdown",
   "id": "f741312e",
   "metadata": {},
   "source": [
    "## Question 9 "
   ]
  },
  {
   "cell_type": "code",
   "execution_count": 112,
   "id": "89af8c4c",
   "metadata": {},
   "outputs": [
    {
     "name": "stdout",
     "output_type": "stream",
     "text": [
      "           Emperor  Length_of_Reign         Cause_of_Death\n",
      "0         Augustus            40.58  Possibly assassinated\n",
      "1         Tiberius            22.50  Possibly assassinated\n",
      "2         Caligula             4.83           Assassinated\n",
      "3         Claudius            13.75  Possibly assassinated\n",
      "4             Nero            13.67                Suicide\n",
      "..             ...              ...                    ...\n",
      "63   Valentinian I            11.00         Natural causes\n",
      "64          Valens            14.00       Killed in battle\n",
      "65         Gratian            16.00           Assassinated\n",
      "66  Valentinian II            17.00  Possibly assassinated\n",
      "67    Theodosius I            16.00         Natural causes\n",
      "\n",
      "[68 rows x 3 columns]\n"
     ]
    }
   ],
   "source": [
    "roman_emperors = pd.read_csv('/Users/dineshkumar/Downloads/ProblemSet3/roman-emperor-reigns.csv')\n",
    "print(roman_emperors)"
   ]
  },
  {
   "cell_type": "code",
   "execution_count": 115,
   "id": "fc46488d",
   "metadata": {},
   "outputs": [
    {
     "data": {
      "image/png": "[encoded data removed]",
      "text/plain": [
       "<Figure size 700x700 with 1 Axes>"
      ]
     },
     "metadata": {},
     "output_type": "display_data"
    }
   ],
   "source": [
    "assassinated = roman_emperors[roman_emperors['Cause_of_Death'] == 'Assassinated'].shape[0]\n",
    "not_assassinated = roman_emperors.shape[0] - assassinated\n",
    "fractions = [assassinated, not_assassinated]\n",
    "\n",
    "\n",
    "plt.figure(figsize=(7,7))\n",
    "plt.pie(fractions, labels=['Assassinated', 'Not Assassinated'], autopct='%1.1f%%', startangle=140, colors=['#ff9999','#66b3ff'])\n",
    "plt.title('Fraction of Roman Emperors Assassinated')\n",
    "plt.show()"
   ]
  },
  {
   "cell_type": "markdown",
   "id": "5a5737ce",
   "metadata": {},
   "source": [
    "## Question 10 "
   ]
  },
  {
   "cell_type": "markdown",
   "id": "e93bdb53",
   "metadata": {},
   "source": [
    "Create a scatter plot showing the relationship between the total revenue earned by\n",
    "arcades and the number of Computer Science PhDs awarded in the U.S. between\n",
    "2000 and 2009."
   ]
  },
  {
   "cell_type": "code",
   "execution_count": 118,
   "id": "d065db8c",
   "metadata": {
    "scrolled": true
   },
   "outputs": [
    {
     "name": "stdout",
     "output_type": "stream",
     "text": [
      "   Year  Total Arcade Revenue (billions)  \\\n",
      "0  2000                            1.196   \n",
      "1  2001                            1.176   \n",
      "2  2002                            1.269   \n",
      "3  2003                            1.240   \n",
      "4  2004                            1.307   \n",
      "5  2005                            1.435   \n",
      "6  2006                            1.601   \n",
      "7  2007                            1.654   \n",
      "8  2008                            1.803   \n",
      "9  2009                            1.734   \n",
      "\n",
      "   Computer Science Doctorates Awarded (US)  \n",
      "0                                       861  \n",
      "1                                       830  \n",
      "2                                       809  \n",
      "3                                       867  \n",
      "4                                       948  \n",
      "5                                      1129  \n",
      "6                                      1453  \n",
      "7                                      1656  \n",
      "8                                      1787  \n",
      "9                                      1611  \n"
     ]
    }
   ],
   "source": [
    "arcade_vs_cs = pd.read_csv('/Users/dineshkumar/Downloads/ProblemSet3/arcade-revenue-vs-cs-doctorates.csv')\n",
    "print(arcade_vs_cs)"
   ]
  },
  {
   "cell_type": "code",
   "execution_count": 119,
   "id": "7b13fcf0",
   "metadata": {},
   "outputs": [
    {
     "data": {
      "text/html": [
       "<div>\n",
       "<style scoped>\n",
       "    .dataframe tbody tr th:only-of-type {\n",
       "        vertical-align: middle;\n",
       "    }\n",
       "\n",
       "    .dataframe tbody tr th {\n",
       "        vertical-align: top;\n",
       "    }\n",
       "\n",
       "    .dataframe thead th {\n",
       "        text-align: right;\n",
       "    }\n",
       "</style>\n",
       "<table border=\"1\" class=\"dataframe\">\n",
       "  <thead>\n",
       "    <tr style=\"text-align: right;\">\n",
       "      <th></th>\n",
       "      <th>Year</th>\n",
       "      <th>Total Arcade Revenue (billions)</th>\n",
       "      <th>Computer Science Doctorates Awarded (US)</th>\n",
       "    </tr>\n",
       "  </thead>\n",
       "  <tbody>\n",
       "    <tr>\n",
       "      <th>0</th>\n",
       "      <td>2000</td>\n",
       "      <td>1.196</td>\n",
       "      <td>861</td>\n",
       "    </tr>\n",
       "    <tr>\n",
       "      <th>1</th>\n",
       "      <td>2001</td>\n",
       "      <td>1.176</td>\n",
       "      <td>830</td>\n",
       "    </tr>\n",
       "    <tr>\n",
       "      <th>2</th>\n",
       "      <td>2002</td>\n",
       "      <td>1.269</td>\n",
       "      <td>809</td>\n",
       "    </tr>\n",
       "    <tr>\n",
       "      <th>3</th>\n",
       "      <td>2003</td>\n",
       "      <td>1.240</td>\n",
       "      <td>867</td>\n",
       "    </tr>\n",
       "    <tr>\n",
       "      <th>4</th>\n",
       "      <td>2004</td>\n",
       "      <td>1.307</td>\n",
       "      <td>948</td>\n",
       "    </tr>\n",
       "  </tbody>\n",
       "</table>\n",
       "</div>"
      ],
      "text/plain": [
       "   Year  Total Arcade Revenue (billions)  \\\n",
       "0  2000                            1.196   \n",
       "1  2001                            1.176   \n",
       "2  2002                            1.269   \n",
       "3  2003                            1.240   \n",
       "4  2004                            1.307   \n",
       "\n",
       "   Computer Science Doctorates Awarded (US)  \n",
       "0                                       861  \n",
       "1                                       830  \n",
       "2                                       809  \n",
       "3                                       867  \n",
       "4                                       948  "
      ]
     },
     "execution_count": 119,
     "metadata": {},
     "output_type": "execute_result"
    }
   ],
   "source": [
    "arcade_vs_cs.head()"
   ]
  },
  {
   "cell_type": "code",
   "execution_count": 122,
   "id": "0ef15780",
   "metadata": {},
   "outputs": [
    {
     "data": {
      "image/png": "[encoded data removed]",
      "text/plain": [
       "<Figure size 1000x500 with 2 Axes>"
      ]
     },
     "metadata": {},
     "output_type": "display_data"
    }
   ],
   "source": [
    "plt.figure(figsize=(10,5))\n",
    "plt.scatter(arcade_vs_cs['Total Arcade Revenue (billions)'], arcade_vs_cs['Computer Science Doctorates Awarded (US)'], c=arcade_vs_cs['Year'], cmap='viridis')\n",
    "\n",
    "\n",
    "plt.xlabel('Total Arcade Revenue (in millions)')\n",
    "plt.ylabel('CS Doctorates Awarded')\n",
    "plt.title('Arcade Revenue vs. CS Doctorates Awarded (2000-2009)')\n",
    "plt.colorbar(label='Year')\n",
    "plt.show()"
   ]
  }
 ],
 "metadata": {
  "kernelspec": {
   "display_name": "Python 3 (ipykernel)",
   "language": "python",
   "name": "python3"
  },
  "language_info": {
   "codemirror_mode": {
    "name": "ipython",
    "version": 3
   },
   "file_extension": ".py",
   "mimetype": "text/x-python",
   "name": "python",
   "nbconvert_exporter": "python",
   "pygments_lexer": "ipython3",
   "version": "3.10.9"
  }
 },
 "nbformat": 4,
 "nbformat_minor": 5
}
